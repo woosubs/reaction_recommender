{
 "cells": [
  {
   "cell_type": "code",
   "execution_count": 4,
   "id": "d7d627a9",
   "metadata": {},
   "outputs": [
    {
     "name": "stdout",
     "output_type": "stream",
     "text": [
      "1000\n",
      "108\n"
     ]
    }
   ],
   "source": [
    "# testing reaction_recommender class\n",
    "import collections\n",
    "import itertools\n",
    "import libsbml\n",
    "import networkx as nx\n",
    "import numpy as np\n",
    "import os\n",
    "import pandas as pd\n",
    "import pickle\n",
    "import random\n",
    "import re\n",
    "import requests\n",
    "\n",
    "import matplotlib.pyplot as plt\n",
    "%matplotlib inline  \n",
    "\n",
    "script_path = \"/Users/woosubs/Desktop/AutomateAnnotation/reaction_recommender/reaction_recommender\"\n",
    "os.sys.path.append(script_path)\n",
    "# import get_annotation as ga\n",
    "import annotation_container as ac\n",
    "# import rhea_reaction_from_chebi_species as cherhea\n",
    "\n",
    "BASE_DIR = '/Users/woosubs/Desktop/AutomateAnnotation/'\n",
    "BIOMD_12 = 'BIOMD0000000012.xml'\n",
    "DATA_DIR = os.path.join(BASE_DIR, \"DATA\")\n",
    "RHEA_DIR = os.path.join(DATA_DIR, \"rhea\")\n",
    "# BioModel files\n",
    "BIOMODEL_DIR = os.path.join(DATA_DIR, \"biomodels/curated_biomodels_31mar2021\")\n",
    "biomd_files = [f for f in os.listdir(BIOMODEL_DIR) if f[-4:] == \".xml\"]\n",
    "print(len(biomd_files))\n",
    "biomd_fpaths = [os.path.join(BIOMODEL_DIR, one_file) for one_file in biomd_files]\n",
    "\n",
    "# BiGG files\n",
    "BIGG_DIR = '/Users/woosubs/Desktop/AutomateAnnotation/DATA/bigg'\n",
    "ecoli_fpath = os.path.join(BIGG_DIR, \"e_coli_core.xml\")\n",
    "bigg_files = [f for f in os.listdir(BIGG_DIR) if f[-4:]=='.xml']\n",
    "bigg_fpaths = [os.path.join(BIGG_DIR, f) for f in bigg_files]\n",
    "print(len(bigg_files))\n",
    "one_fpath = bigg_fpaths[0]"
   ]
  },
  {
   "cell_type": "code",
   "execution_count": 6,
   "id": "4952a211",
   "metadata": {},
   "outputs": [],
   "source": [
    "# Nov 14, 2021: using a shortened version, meaning H and D are removed\n",
    "with open(os.path.join(DATA_DIR, 'all_shortened_chebi_to_formula_19nov2021.pkl'), 'rb') as f:\n",
    "  ref_shortened_chebi_to_formula = pickle.load(f)\n",
    "# below is full version\n",
    "with open(os.path.join(DATA_DIR, 'all_possible_chebi_to_formula_12nov2021.pkl'), 'rb') as f:\n",
    "  ref_full_chebi_to_formula = pickle.load(f)\n",
    "# map secondary id to primary id\n",
    "with open(os.path.join(DATA_DIR, 'chebi_second2prime_8nov2021.pickle'), 'rb') as f:\n",
    "  ref_second2prime_dict = pickle.load(f)\n",
    "# RHEA All Ids to Bi Id (KEGG Mappable)\n",
    "with open(os.path.join(RHEA_DIR, 'rhea_all2bi.pkl'), 'rb') as f:\n",
    "  ref_rhea2bi = pickle.load(f)\n",
    "with open(os.path.join(RHEA_DIR, 'rhea_all2master.pkl'), 'rb') as f:\n",
    "  ref_rhea2master = pickle.load(f)\n",
    "with open(os.path.join(RHEA_DIR, 'rhea2chebi_reference.pkl'), 'rb') as f:\n",
    "  ref_rhea2chebi = pickle.load(f)"
   ]
  },
  {
   "cell_type": "code",
   "execution_count": 12,
   "id": "e291faec",
   "metadata": {},
   "outputs": [],
   "source": [
    "one_container = ac.AnnotationContainer(model_file=os.path.join(BIGG_DIR, ecoli_fpath))"
   ]
  },
  {
   "cell_type": "code",
   "execution_count": 7,
   "id": "bbe60cbc",
   "metadata": {},
   "outputs": [],
   "source": [
    "reader = libsbml.SBMLReader()\n",
    "document = reader.readSBML(ecoli_fpath)\n",
    "model = document.getModel()"
   ]
  },
  {
   "cell_type": "code",
   "execution_count": 13,
   "id": "ba24e353",
   "metadata": {},
   "outputs": [
    {
     "data": {
      "text/plain": [
       "'<sbml:annotation xmlns:sbml=\"http://www.sbml.org/sbml/level3/version1/core\">\\n  <rdf:RDF xmlns:rdf=\"http://www.w3.org/1999/02/22-rdf-syntax-ns#\">\\n    <rdf:Description rdf:about=\"#M_glc__D_e\">\\n      <bqbiol:is xmlns:bqbiol=\"http://biomodels.net/biology-qualifiers/\">\\n        <rdf:Bag>\\n          <rdf:li rdf:resource=\"http://identifiers.org/bigg.metabolite/glc__D\"/>\\n          <rdf:li rdf:resource=\"http://identifiers.org/biocyc/META:Glucopyranose\"/>\\n          <rdf:li rdf:resource=\"http://identifiers.org/chebi/CHEBI:12965\"/>\\n          <rdf:li rdf:resource=\"http://identifiers.org/chebi/CHEBI:20999\"/>\\n          <rdf:li rdf:resource=\"http://identifiers.org/chebi/CHEBI:4167\"/>\\n          <rdf:li rdf:resource=\"http://identifiers.org/chebi/CHEBI:17634\"/>\\n          <rdf:li rdf:resource=\"http://identifiers.org/hmdb/HMDB00122\"/>\\n          <rdf:li rdf:resource=\"http://identifiers.org/hmdb/HMDB06564\"/>\\n          <rdf:li rdf:resource=\"http://identifiers.org/inchi_key/WQZGKKKJIJFFOK-GASJEMHNSA-N\"/>\\n          <rdf:li rdf:resource=\"http://identifiers.org/kegg.compound/C00031\"/>\\n          <rdf:li rdf:resource=\"http://identifiers.org/kegg.drug/D00009\"/>\\n          <rdf:li rdf:resource=\"http://identifiers.org/metanetx.chemical/MNXM41\"/>\\n          <rdf:li rdf:resource=\"http://identifiers.org/sabiork/1406\"/>\\n          <rdf:li rdf:resource=\"http://identifiers.org/sabiork/1407\"/>\\n          <rdf:li rdf:resource=\"http://identifiers.org/seed.compound/cpd26821\"/>\\n          <rdf:li rdf:resource=\"http://identifiers.org/seed.compound/cpd00027\"/>\\n        </rdf:Bag>\\n      </bqbiol:is>\\n    </rdf:Description>\\n  </rdf:RDF>\\n</sbml:annotation>'"
      ]
     },
     "execution_count": 13,
     "metadata": {},
     "output_type": "execute_result"
    }
   ],
   "source": [
    "one_spec_anot = model.getSpecies('M_glc__D_e').getAnnotationString()\n",
    "one_spec_anot"
   ]
  },
  {
   "cell_type": "code",
   "execution_count": 16,
   "id": "b7c3a13c",
   "metadata": {},
   "outputs": [
    {
     "data": {
      "text/plain": [
       "[('bigg.metabolite', 'glc__D'),\n",
       " ('biocyc', 'META:Glucopyranose'),\n",
       " ('chebi', 'CHEBI:12965'),\n",
       " ('chebi', 'CHEBI:20999'),\n",
       " ('chebi', 'CHEBI:4167'),\n",
       " ('chebi', 'CHEBI:17634'),\n",
       " ('hmdb', 'HMDB00122'),\n",
       " ('hmdb', 'HMDB06564'),\n",
       " ('inchi_key', 'WQZGKKKJIJFFOK-GASJEMHNSA-N'),\n",
       " ('kegg.compound', 'C00031'),\n",
       " ('kegg.drug', 'D00009'),\n",
       " ('metanetx.chemical', 'MNXM41'),\n",
       " ('sabiork', '1406'),\n",
       " ('sabiork', '1407'),\n",
       " ('seed.compound', 'cpd26821'),\n",
       " ('seed.compound', 'cpd00027')]"
      ]
     },
     "execution_count": 16,
     "metadata": {},
     "output_type": "execute_result"
    }
   ],
   "source": [
    "one_container.getOntologyFromString(one_spec_anot)"
   ]
  },
  {
   "cell_type": "code",
   "execution_count": null,
   "id": "80c888f1",
   "metadata": {},
   "outputs": [],
   "source": []
  }
 ],
 "metadata": {
  "kernelspec": {
   "display_name": "pyo",
   "language": "python",
   "name": "pyo"
  },
  "language_info": {
   "codemirror_mode": {
    "name": "ipython",
    "version": 3
   },
   "file_extension": ".py",
   "mimetype": "text/x-python",
   "name": "python",
   "nbconvert_exporter": "python",
   "pygments_lexer": "ipython3",
   "version": "3.8.8"
  }
 },
 "nbformat": 4,
 "nbformat_minor": 5
}
