{
 "cells": [
  {
   "cell_type": "code",
   "execution_count": 1,
   "id": "0f87a4e1",
   "metadata": {},
   "outputs": [
    {
     "name": "stdout",
     "output_type": "stream",
     "text": [
      "1000\n",
      "108\n"
     ]
    }
   ],
   "source": [
    "# testing reaction_recommender class\n",
    "import collections\n",
    "import itertools\n",
    "import libsbml\n",
    "import networkx as nx\n",
    "import numpy as np\n",
    "import os\n",
    "import pandas as pd\n",
    "import pickle\n",
    "import random\n",
    "import re\n",
    "import requests\n",
    "\n",
    "import matplotlib.pyplot as plt\n",
    "%matplotlib inline  \n",
    "\n",
    "script_path = \"/Users/woosubs/Desktop/AutomateAnnotation/reaction_recommender/reaction_recommender/\"\n",
    "os.sys.path.append(script_path)\n",
    "\n",
    "# import get_annotation as ga\n",
    "from reaction_recommender import annotation_container as ac\n",
    "from reaction_recommender import reaction_recommender as recommender\n",
    "\n",
    "BASE_DIR = '/Users/woosubs/Desktop/AutomateAnnotation/'\n",
    "BIOMD_12 = 'BIOMD0000000012.xml'\n",
    "DATA_DIR = os.path.join(BASE_DIR, \"DATA\")\n",
    "RHEA_DIR = os.path.join(DATA_DIR, \"rhea\")\n",
    "# BioModel files\n",
    "BIOMODEL_DIR = os.path.join(DATA_DIR, \"biomodels/curated_biomodels_31mar2021\")\n",
    "biomd_files = [f for f in os.listdir(BIOMODEL_DIR) if f[-4:] == \".xml\"]\n",
    "print(len(biomd_files))\n",
    "biomd_fpaths = [os.path.join(BIOMODEL_DIR, one_file) for one_file in biomd_files]\n",
    "\n",
    "# BiGG files\n",
    "BIGG_DIR = '/Users/woosubs/Desktop/AutomateAnnotation/DATA/bigg'\n",
    "ecoli_fpath = os.path.join(BIGG_DIR, \"e_coli_core.xml\")\n",
    "bigg_files = [f for f in os.listdir(BIGG_DIR) if f[-4:]=='.xml']\n",
    "bigg_fpaths = [os.path.join(BIGG_DIR, f) for f in bigg_files]\n",
    "print(len(bigg_files))\n",
    "one_fpath = bigg_fpaths[0]"
   ]
  },
  {
   "cell_type": "code",
   "execution_count": 2,
   "id": "ba34273a",
   "metadata": {},
   "outputs": [
    {
     "data": {
      "text/plain": [
       "['/Users/woosubs/Desktop/AutomateAnnotation/reaction_recommender/reaction_recommender/notebook',\n",
       " '/Users/woosubs/anaconda3/envs/pyo/lib/python38.zip',\n",
       " '/Users/woosubs/anaconda3/envs/pyo/lib/python3.8',\n",
       " '/Users/woosubs/anaconda3/envs/pyo/lib/python3.8/lib-dynload',\n",
       " '',\n",
       " '/Users/woosubs/.local/lib/python3.8/site-packages',\n",
       " '/Users/woosubs/anaconda3/envs/pyo/lib/python3.8/site-packages',\n",
       " '/Users/woosubs/anaconda3/envs/pyo/lib/python3.8/site-packages/IPython/extensions',\n",
       " '/Users/woosubs/.ipython',\n",
       " '/Users/woosubs/anaconda3/envs/pyo/lib/python3.8/site-packages/libsbml',\n",
       " '/Users/woosubs/Desktop/AutomateAnnotation/reaction_recommender/reaction_recommender/']"
      ]
     },
     "execution_count": 2,
     "metadata": {},
     "output_type": "execute_result"
    }
   ],
   "source": [
    "os.sys.path"
   ]
  },
  {
   "cell_type": "code",
   "execution_count": 3,
   "id": "a78e27b2",
   "metadata": {},
   "outputs": [],
   "source": [
    "# Nov 14, 2021: using a shortened version, meaning H and D are removed\n",
    "with open(os.path.join(DATA_DIR, 'all_shortened_chebi_to_formula_19nov2021.pkl'), 'rb') as f:\n",
    "  ref_shortened_chebi_to_formula = pickle.load(f)\n",
    "# below is full version\n",
    "with open(os.path.join(DATA_DIR, 'all_possible_chebi_to_formula_12nov2021.pkl'), 'rb') as f:\n",
    "  ref_full_chebi_to_formula = pickle.load(f)\n",
    "# map secondary id to primary id\n",
    "with open(os.path.join(DATA_DIR, 'chebi_second2prime_8nov2021.pickle'), 'rb') as f:\n",
    "  ref_second2prime_dict = pickle.load(f)\n",
    "# RHEA All Ids to Bi Id (KEGG Mappable)\n",
    "with open(os.path.join(RHEA_DIR, 'rhea_all2bi.pkl'), 'rb') as f:\n",
    "  ref_rhea2bi = pickle.load(f)\n",
    "with open(os.path.join(RHEA_DIR, 'rhea_all2master.pkl'), 'rb') as f:\n",
    "  ref_rhea2master = pickle.load(f)\n",
    "with open(os.path.join(RHEA_DIR, 'rhea2chebi_reference.pkl'), 'rb') as f:\n",
    "  ref_rhea2chebi = pickle.load(f)"
   ]
  },
  {
   "cell_type": "code",
   "execution_count": 4,
   "id": "261cf402",
   "metadata": {},
   "outputs": [],
   "source": [
    "one_container = ac.AnnotationContainer(model_file=os.path.join(BIGG_DIR, ecoli_fpath))"
   ]
  },
  {
   "cell_type": "code",
   "execution_count": 5,
   "id": "b602a67f",
   "metadata": {},
   "outputs": [],
   "source": [
    "reader = libsbml.SBMLReader()\n",
    "document = reader.readSBML(ecoli_fpath)\n",
    "model = document.getModel()"
   ]
  },
  {
   "cell_type": "code",
   "execution_count": 6,
   "id": "36e9a390",
   "metadata": {},
   "outputs": [
    {
     "data": {
      "text/plain": [
       "'<sbml:annotation xmlns:sbml=\"http://www.sbml.org/sbml/level3/version1/core\">\\n  <rdf:RDF xmlns:rdf=\"http://www.w3.org/1999/02/22-rdf-syntax-ns#\">\\n    <rdf:Description rdf:about=\"#M_glc__D_e\">\\n      <bqbiol:is xmlns:bqbiol=\"http://biomodels.net/biology-qualifiers/\">\\n        <rdf:Bag>\\n          <rdf:li rdf:resource=\"http://identifiers.org/bigg.metabolite/glc__D\"/>\\n          <rdf:li rdf:resource=\"http://identifiers.org/biocyc/META:Glucopyranose\"/>\\n          <rdf:li rdf:resource=\"http://identifiers.org/chebi/CHEBI:12965\"/>\\n          <rdf:li rdf:resource=\"http://identifiers.org/chebi/CHEBI:20999\"/>\\n          <rdf:li rdf:resource=\"http://identifiers.org/chebi/CHEBI:4167\"/>\\n          <rdf:li rdf:resource=\"http://identifiers.org/chebi/CHEBI:17634\"/>\\n          <rdf:li rdf:resource=\"http://identifiers.org/hmdb/HMDB00122\"/>\\n          <rdf:li rdf:resource=\"http://identifiers.org/hmdb/HMDB06564\"/>\\n          <rdf:li rdf:resource=\"http://identifiers.org/inchi_key/WQZGKKKJIJFFOK-GASJEMHNSA-N\"/>\\n          <rdf:li rdf:resource=\"http://identifiers.org/kegg.compound/C00031\"/>\\n          <rdf:li rdf:resource=\"http://identifiers.org/kegg.drug/D00009\"/>\\n          <rdf:li rdf:resource=\"http://identifiers.org/metanetx.chemical/MNXM41\"/>\\n          <rdf:li rdf:resource=\"http://identifiers.org/sabiork/1406\"/>\\n          <rdf:li rdf:resource=\"http://identifiers.org/sabiork/1407\"/>\\n          <rdf:li rdf:resource=\"http://identifiers.org/seed.compound/cpd26821\"/>\\n          <rdf:li rdf:resource=\"http://identifiers.org/seed.compound/cpd00027\"/>\\n        </rdf:Bag>\\n      </bqbiol:is>\\n    </rdf:Description>\\n  </rdf:RDF>\\n</sbml:annotation>'"
      ]
     },
     "execution_count": 6,
     "metadata": {},
     "output_type": "execute_result"
    }
   ],
   "source": [
    "one_spec_anot = model.getSpecies('M_glc__D_e').getAnnotationString()\n",
    "one_spec_anot"
   ]
  },
  {
   "cell_type": "code",
   "execution_count": 7,
   "id": "8ca5c28e",
   "metadata": {},
   "outputs": [
    {
     "data": {
      "text/plain": [
       "[('bigg.metabolite', 'glc__D'),\n",
       " ('biocyc', 'META:Glucopyranose'),\n",
       " ('chebi', 'CHEBI:12965'),\n",
       " ('chebi', 'CHEBI:20999'),\n",
       " ('chebi', 'CHEBI:4167'),\n",
       " ('chebi', 'CHEBI:17634'),\n",
       " ('hmdb', 'HMDB00122'),\n",
       " ('hmdb', 'HMDB06564'),\n",
       " ('inchi_key', 'WQZGKKKJIJFFOK-GASJEMHNSA-N'),\n",
       " ('kegg.compound', 'C00031'),\n",
       " ('kegg.drug', 'D00009'),\n",
       " ('metanetx.chemical', 'MNXM41'),\n",
       " ('sabiork', '1406'),\n",
       " ('sabiork', '1407'),\n",
       " ('seed.compound', 'cpd26821'),\n",
       " ('seed.compound', 'cpd00027')]"
      ]
     },
     "execution_count": 7,
     "metadata": {},
     "output_type": "execute_result"
    }
   ],
   "source": [
    "one_container.getOntologyFromString(one_spec_anot)"
   ]
  },
  {
   "cell_type": "code",
   "execution_count": 8,
   "id": "12c1a84f",
   "metadata": {},
   "outputs": [],
   "source": [
    "recom = recommender.ReactionRecommender(model_file=os.path.join(BIGG_DIR, ecoli_fpath))"
   ]
  },
  {
   "cell_type": "code",
   "execution_count": 9,
   "id": "fbf6148e",
   "metadata": {},
   "outputs": [
    {
     "data": {
      "text/html": [
       "<div>\n",
       "<style scoped>\n",
       "    .dataframe tbody tr th:only-of-type {\n",
       "        vertical-align: middle;\n",
       "    }\n",
       "\n",
       "    .dataframe tbody tr th {\n",
       "        vertical-align: top;\n",
       "    }\n",
       "\n",
       "    .dataframe thead th {\n",
       "        text-align: right;\n",
       "    }\n",
       "</style>\n",
       "<table border=\"1\" class=\"dataframe\">\n",
       "  <thead>\n",
       "    <tr style=\"text-align: right;\">\n",
       "      <th></th>\n",
       "      <th>C11O15P2R2</th>\n",
       "      <th>C37O7P</th>\n",
       "      <th>C11ClNO</th>\n",
       "      <th>C6N3O4</th>\n",
       "      <th>C105N7O36P2</th>\n",
       "      <th>C60NO7P</th>\n",
       "      <th>C5N4O4</th>\n",
       "      <th>(C5)n.C96H162N2O67P2</th>\n",
       "      <th>C6N4O4</th>\n",
       "      <th>C12N2</th>\n",
       "      <th>...</th>\n",
       "      <th>C16N2O11R</th>\n",
       "      <th>C2N2OR</th>\n",
       "      <th>C6Cl4O2</th>\n",
       "      <th>C19N5O7R2</th>\n",
       "      <th>C6N3</th>\n",
       "      <th>C12NO7PR</th>\n",
       "      <th>C15N5O5</th>\n",
       "      <th>C6N4O2R2</th>\n",
       "      <th>C24NO10S</th>\n",
       "      <th>C2O</th>\n",
       "    </tr>\n",
       "  </thead>\n",
       "  <tbody>\n",
       "    <tr>\n",
       "      <th>RHEA:10003</th>\n",
       "      <td>0</td>\n",
       "      <td>0</td>\n",
       "      <td>0</td>\n",
       "      <td>0</td>\n",
       "      <td>0</td>\n",
       "      <td>0</td>\n",
       "      <td>0</td>\n",
       "      <td>0</td>\n",
       "      <td>0</td>\n",
       "      <td>0</td>\n",
       "      <td>...</td>\n",
       "      <td>0</td>\n",
       "      <td>0</td>\n",
       "      <td>0</td>\n",
       "      <td>0</td>\n",
       "      <td>0</td>\n",
       "      <td>0</td>\n",
       "      <td>0</td>\n",
       "      <td>0</td>\n",
       "      <td>0</td>\n",
       "      <td>0</td>\n",
       "    </tr>\n",
       "    <tr>\n",
       "      <th>RHEA:10007</th>\n",
       "      <td>0</td>\n",
       "      <td>0</td>\n",
       "      <td>0</td>\n",
       "      <td>0</td>\n",
       "      <td>0</td>\n",
       "      <td>0</td>\n",
       "      <td>0</td>\n",
       "      <td>0</td>\n",
       "      <td>0</td>\n",
       "      <td>0</td>\n",
       "      <td>...</td>\n",
       "      <td>0</td>\n",
       "      <td>0</td>\n",
       "      <td>0</td>\n",
       "      <td>0</td>\n",
       "      <td>0</td>\n",
       "      <td>0</td>\n",
       "      <td>0</td>\n",
       "      <td>0</td>\n",
       "      <td>0</td>\n",
       "      <td>0</td>\n",
       "    </tr>\n",
       "    <tr>\n",
       "      <th>RHEA:10011</th>\n",
       "      <td>0</td>\n",
       "      <td>0</td>\n",
       "      <td>0</td>\n",
       "      <td>0</td>\n",
       "      <td>0</td>\n",
       "      <td>0</td>\n",
       "      <td>0</td>\n",
       "      <td>0</td>\n",
       "      <td>0</td>\n",
       "      <td>0</td>\n",
       "      <td>...</td>\n",
       "      <td>0</td>\n",
       "      <td>0</td>\n",
       "      <td>0</td>\n",
       "      <td>0</td>\n",
       "      <td>0</td>\n",
       "      <td>0</td>\n",
       "      <td>0</td>\n",
       "      <td>0</td>\n",
       "      <td>0</td>\n",
       "      <td>0</td>\n",
       "    </tr>\n",
       "    <tr>\n",
       "      <th>RHEA:10015</th>\n",
       "      <td>0</td>\n",
       "      <td>0</td>\n",
       "      <td>0</td>\n",
       "      <td>0</td>\n",
       "      <td>0</td>\n",
       "      <td>0</td>\n",
       "      <td>0</td>\n",
       "      <td>0</td>\n",
       "      <td>0</td>\n",
       "      <td>0</td>\n",
       "      <td>...</td>\n",
       "      <td>0</td>\n",
       "      <td>0</td>\n",
       "      <td>0</td>\n",
       "      <td>0</td>\n",
       "      <td>0</td>\n",
       "      <td>0</td>\n",
       "      <td>0</td>\n",
       "      <td>0</td>\n",
       "      <td>0</td>\n",
       "      <td>0</td>\n",
       "    </tr>\n",
       "    <tr>\n",
       "      <th>RHEA:10019</th>\n",
       "      <td>0</td>\n",
       "      <td>0</td>\n",
       "      <td>0</td>\n",
       "      <td>0</td>\n",
       "      <td>0</td>\n",
       "      <td>0</td>\n",
       "      <td>0</td>\n",
       "      <td>0</td>\n",
       "      <td>0</td>\n",
       "      <td>0</td>\n",
       "      <td>...</td>\n",
       "      <td>0</td>\n",
       "      <td>0</td>\n",
       "      <td>0</td>\n",
       "      <td>0</td>\n",
       "      <td>0</td>\n",
       "      <td>0</td>\n",
       "      <td>0</td>\n",
       "      <td>0</td>\n",
       "      <td>0</td>\n",
       "      <td>0</td>\n",
       "    </tr>\n",
       "    <tr>\n",
       "      <th>...</th>\n",
       "      <td>...</td>\n",
       "      <td>...</td>\n",
       "      <td>...</td>\n",
       "      <td>...</td>\n",
       "      <td>...</td>\n",
       "      <td>...</td>\n",
       "      <td>...</td>\n",
       "      <td>...</td>\n",
       "      <td>...</td>\n",
       "      <td>...</td>\n",
       "      <td>...</td>\n",
       "      <td>...</td>\n",
       "      <td>...</td>\n",
       "      <td>...</td>\n",
       "      <td>...</td>\n",
       "      <td>...</td>\n",
       "      <td>...</td>\n",
       "      <td>...</td>\n",
       "      <td>...</td>\n",
       "      <td>...</td>\n",
       "      <td>...</td>\n",
       "    </tr>\n",
       "    <tr>\n",
       "      <th>RHEA:67147</th>\n",
       "      <td>0</td>\n",
       "      <td>0</td>\n",
       "      <td>0</td>\n",
       "      <td>0</td>\n",
       "      <td>0</td>\n",
       "      <td>0</td>\n",
       "      <td>0</td>\n",
       "      <td>0</td>\n",
       "      <td>0</td>\n",
       "      <td>0</td>\n",
       "      <td>...</td>\n",
       "      <td>0</td>\n",
       "      <td>0</td>\n",
       "      <td>0</td>\n",
       "      <td>0</td>\n",
       "      <td>0</td>\n",
       "      <td>0</td>\n",
       "      <td>0</td>\n",
       "      <td>0</td>\n",
       "      <td>0</td>\n",
       "      <td>0</td>\n",
       "    </tr>\n",
       "    <tr>\n",
       "      <th>RHEA:67151</th>\n",
       "      <td>0</td>\n",
       "      <td>0</td>\n",
       "      <td>0</td>\n",
       "      <td>0</td>\n",
       "      <td>0</td>\n",
       "      <td>0</td>\n",
       "      <td>0</td>\n",
       "      <td>0</td>\n",
       "      <td>0</td>\n",
       "      <td>0</td>\n",
       "      <td>...</td>\n",
       "      <td>0</td>\n",
       "      <td>0</td>\n",
       "      <td>0</td>\n",
       "      <td>0</td>\n",
       "      <td>0</td>\n",
       "      <td>0</td>\n",
       "      <td>0</td>\n",
       "      <td>0</td>\n",
       "      <td>0</td>\n",
       "      <td>0</td>\n",
       "    </tr>\n",
       "    <tr>\n",
       "      <th>RHEA:67155</th>\n",
       "      <td>0</td>\n",
       "      <td>0</td>\n",
       "      <td>0</td>\n",
       "      <td>0</td>\n",
       "      <td>0</td>\n",
       "      <td>0</td>\n",
       "      <td>0</td>\n",
       "      <td>0</td>\n",
       "      <td>0</td>\n",
       "      <td>0</td>\n",
       "      <td>...</td>\n",
       "      <td>0</td>\n",
       "      <td>0</td>\n",
       "      <td>0</td>\n",
       "      <td>0</td>\n",
       "      <td>0</td>\n",
       "      <td>0</td>\n",
       "      <td>0</td>\n",
       "      <td>0</td>\n",
       "      <td>0</td>\n",
       "      <td>0</td>\n",
       "    </tr>\n",
       "    <tr>\n",
       "      <th>RHEA:67159</th>\n",
       "      <td>0</td>\n",
       "      <td>0</td>\n",
       "      <td>0</td>\n",
       "      <td>0</td>\n",
       "      <td>0</td>\n",
       "      <td>0</td>\n",
       "      <td>0</td>\n",
       "      <td>0</td>\n",
       "      <td>0</td>\n",
       "      <td>0</td>\n",
       "      <td>...</td>\n",
       "      <td>0</td>\n",
       "      <td>0</td>\n",
       "      <td>0</td>\n",
       "      <td>0</td>\n",
       "      <td>0</td>\n",
       "      <td>0</td>\n",
       "      <td>0</td>\n",
       "      <td>0</td>\n",
       "      <td>0</td>\n",
       "      <td>0</td>\n",
       "    </tr>\n",
       "    <tr>\n",
       "      <th>RHEA:67171</th>\n",
       "      <td>0</td>\n",
       "      <td>0</td>\n",
       "      <td>0</td>\n",
       "      <td>0</td>\n",
       "      <td>0</td>\n",
       "      <td>0</td>\n",
       "      <td>0</td>\n",
       "      <td>0</td>\n",
       "      <td>0</td>\n",
       "      <td>0</td>\n",
       "      <td>...</td>\n",
       "      <td>0</td>\n",
       "      <td>0</td>\n",
       "      <td>0</td>\n",
       "      <td>0</td>\n",
       "      <td>0</td>\n",
       "      <td>0</td>\n",
       "      <td>0</td>\n",
       "      <td>0</td>\n",
       "      <td>0</td>\n",
       "      <td>0</td>\n",
       "    </tr>\n",
       "  </tbody>\n",
       "</table>\n",
       "<p>13651 rows × 3790 columns</p>\n",
       "</div>"
      ],
      "text/plain": [
       "            C11O15P2R2  C37O7P  C11ClNO  C6N3O4  C105N7O36P2  C60NO7P  C5N4O4  \\\n",
       "RHEA:10003           0       0        0       0            0        0       0   \n",
       "RHEA:10007           0       0        0       0            0        0       0   \n",
       "RHEA:10011           0       0        0       0            0        0       0   \n",
       "RHEA:10015           0       0        0       0            0        0       0   \n",
       "RHEA:10019           0       0        0       0            0        0       0   \n",
       "...                ...     ...      ...     ...          ...      ...     ...   \n",
       "RHEA:67147           0       0        0       0            0        0       0   \n",
       "RHEA:67151           0       0        0       0            0        0       0   \n",
       "RHEA:67155           0       0        0       0            0        0       0   \n",
       "RHEA:67159           0       0        0       0            0        0       0   \n",
       "RHEA:67171           0       0        0       0            0        0       0   \n",
       "\n",
       "            (C5)n.C96H162N2O67P2  C6N4O4  C12N2  ...  C16N2O11R  C2N2OR  \\\n",
       "RHEA:10003                     0       0      0  ...          0       0   \n",
       "RHEA:10007                     0       0      0  ...          0       0   \n",
       "RHEA:10011                     0       0      0  ...          0       0   \n",
       "RHEA:10015                     0       0      0  ...          0       0   \n",
       "RHEA:10019                     0       0      0  ...          0       0   \n",
       "...                          ...     ...    ...  ...        ...     ...   \n",
       "RHEA:67147                     0       0      0  ...          0       0   \n",
       "RHEA:67151                     0       0      0  ...          0       0   \n",
       "RHEA:67155                     0       0      0  ...          0       0   \n",
       "RHEA:67159                     0       0      0  ...          0       0   \n",
       "RHEA:67171                     0       0      0  ...          0       0   \n",
       "\n",
       "            C6Cl4O2  C19N5O7R2  C6N3  C12NO7PR  C15N5O5  C6N4O2R2  C24NO10S  \\\n",
       "RHEA:10003        0          0     0         0        0         0         0   \n",
       "RHEA:10007        0          0     0         0        0         0         0   \n",
       "RHEA:10011        0          0     0         0        0         0         0   \n",
       "RHEA:10015        0          0     0         0        0         0         0   \n",
       "RHEA:10019        0          0     0         0        0         0         0   \n",
       "...             ...        ...   ...       ...      ...       ...       ...   \n",
       "RHEA:67147        0          0     0         0        0         0         0   \n",
       "RHEA:67151        0          0     0         0        0         0         0   \n",
       "RHEA:67155        0          0     0         0        0         0         0   \n",
       "RHEA:67159        0          0     0         0        0         0         0   \n",
       "RHEA:67171        0          0     0         0        0         0         0   \n",
       "\n",
       "            C2O  \n",
       "RHEA:10003    0  \n",
       "RHEA:10007    0  \n",
       "RHEA:10011    0  \n",
       "RHEA:10015    0  \n",
       "RHEA:10019    0  \n",
       "...         ...  \n",
       "RHEA:67147    0  \n",
       "RHEA:67151    0  \n",
       "RHEA:67155    0  \n",
       "RHEA:67159    0  \n",
       "RHEA:67171    0  \n",
       "\n",
       "[13651 rows x 3790 columns]"
      ]
     },
     "execution_count": 9,
     "metadata": {},
     "output_type": "execute_result"
    }
   ],
   "source": [
    "recom.ref_mat"
   ]
  },
  {
   "cell_type": "code",
   "execution_count": 10,
   "id": "9590af16",
   "metadata": {},
   "outputs": [
    {
     "data": {
      "text/html": [
       "<div>\n",
       "<style scoped>\n",
       "    .dataframe tbody tr th:only-of-type {\n",
       "        vertical-align: middle;\n",
       "    }\n",
       "\n",
       "    .dataframe tbody tr th {\n",
       "        vertical-align: top;\n",
       "    }\n",
       "\n",
       "    .dataframe thead th {\n",
       "        text-align: right;\n",
       "    }\n",
       "</style>\n",
       "<table border=\"1\" class=\"dataframe\">\n",
       "  <thead>\n",
       "    <tr style=\"text-align: right;\">\n",
       "      <th></th>\n",
       "      <th>O</th>\n",
       "      <th>C8NS</th>\n",
       "      <th>C5O2</th>\n",
       "      <th>N</th>\n",
       "      <th>C5NO</th>\n",
       "    </tr>\n",
       "  </thead>\n",
       "  <tbody>\n",
       "    <tr>\n",
       "      <th>RHEA:10003</th>\n",
       "      <td>1</td>\n",
       "      <td>0</td>\n",
       "      <td>1</td>\n",
       "      <td>1</td>\n",
       "      <td>1</td>\n",
       "    </tr>\n",
       "    <tr>\n",
       "      <th>RHEA:10007</th>\n",
       "      <td>0</td>\n",
       "      <td>1</td>\n",
       "      <td>0</td>\n",
       "      <td>0</td>\n",
       "      <td>0</td>\n",
       "    </tr>\n",
       "  </tbody>\n",
       "</table>\n",
       "</div>"
      ],
      "text/plain": [
       "            O  C8NS  C5O2  N  C5NO\n",
       "RHEA:10003  1     0     1  1     1\n",
       "RHEA:10007  0     1     0  0     0"
      ]
     },
     "execution_count": 10,
     "metadata": {},
     "output_type": "execute_result"
    }
   ],
   "source": [
    "recommender.ref_short_rhea2formula\n",
    "dummy_dict = {'RHEA:10003': ['N', 'O', 'C5NO', 'C5O2'],\n",
    "              'RHEA:10007': ['C8NS', 'C8NS']}\n",
    "dummy_mat = recom.getReferenceMatrix(dummy_dict)\n",
    "dummy_mat"
   ]
  },
  {
   "cell_type": "code",
   "execution_count": 11,
   "id": "6f1c8afd",
   "metadata": {},
   "outputs": [
    {
     "data": {
      "text/plain": [
       "1"
      ]
     },
     "execution_count": 11,
     "metadata": {},
     "output_type": "execute_result"
    }
   ],
   "source": [
    "dummy_mat.loc['RHEA:10003', 'N']"
   ]
  },
  {
   "cell_type": "code",
   "execution_count": 12,
   "id": "aea0d89c",
   "metadata": {},
   "outputs": [
    {
     "data": {
      "text/html": [
       "<div>\n",
       "<style scoped>\n",
       "    .dataframe tbody tr th:only-of-type {\n",
       "        vertical-align: middle;\n",
       "    }\n",
       "\n",
       "    .dataframe tbody tr th {\n",
       "        vertical-align: top;\n",
       "    }\n",
       "\n",
       "    .dataframe thead th {\n",
       "        text-align: right;\n",
       "    }\n",
       "</style>\n",
       "<table border=\"1\" class=\"dataframe\">\n",
       "  <thead>\n",
       "    <tr style=\"text-align: right;\">\n",
       "      <th></th>\n",
       "      <th>O</th>\n",
       "      <th>C8NS</th>\n",
       "      <th>C5O2</th>\n",
       "      <th>N</th>\n",
       "      <th>C5NO</th>\n",
       "    </tr>\n",
       "  </thead>\n",
       "  <tbody>\n",
       "    <tr>\n",
       "      <th>C11O15P2R2</th>\n",
       "      <td>0</td>\n",
       "      <td>0</td>\n",
       "      <td>0</td>\n",
       "      <td>0</td>\n",
       "      <td>0</td>\n",
       "    </tr>\n",
       "    <tr>\n",
       "      <th>C37O7P</th>\n",
       "      <td>0</td>\n",
       "      <td>0</td>\n",
       "      <td>0</td>\n",
       "      <td>0</td>\n",
       "      <td>0</td>\n",
       "    </tr>\n",
       "    <tr>\n",
       "      <th>C11ClNO</th>\n",
       "      <td>0</td>\n",
       "      <td>0</td>\n",
       "      <td>0</td>\n",
       "      <td>0</td>\n",
       "      <td>0</td>\n",
       "    </tr>\n",
       "    <tr>\n",
       "      <th>C6N3O4</th>\n",
       "      <td>0</td>\n",
       "      <td>0</td>\n",
       "      <td>0</td>\n",
       "      <td>0</td>\n",
       "      <td>0</td>\n",
       "    </tr>\n",
       "    <tr>\n",
       "      <th>C105N7O36P2</th>\n",
       "      <td>0</td>\n",
       "      <td>0</td>\n",
       "      <td>0</td>\n",
       "      <td>0</td>\n",
       "      <td>0</td>\n",
       "    </tr>\n",
       "    <tr>\n",
       "      <th>...</th>\n",
       "      <td>...</td>\n",
       "      <td>...</td>\n",
       "      <td>...</td>\n",
       "      <td>...</td>\n",
       "      <td>...</td>\n",
       "    </tr>\n",
       "    <tr>\n",
       "      <th>C12NO7PR</th>\n",
       "      <td>0</td>\n",
       "      <td>0</td>\n",
       "      <td>0</td>\n",
       "      <td>0</td>\n",
       "      <td>0</td>\n",
       "    </tr>\n",
       "    <tr>\n",
       "      <th>C15N5O5</th>\n",
       "      <td>0</td>\n",
       "      <td>0</td>\n",
       "      <td>0</td>\n",
       "      <td>0</td>\n",
       "      <td>0</td>\n",
       "    </tr>\n",
       "    <tr>\n",
       "      <th>C6N4O2R2</th>\n",
       "      <td>0</td>\n",
       "      <td>0</td>\n",
       "      <td>0</td>\n",
       "      <td>0</td>\n",
       "      <td>0</td>\n",
       "    </tr>\n",
       "    <tr>\n",
       "      <th>C24NO10S</th>\n",
       "      <td>0</td>\n",
       "      <td>0</td>\n",
       "      <td>0</td>\n",
       "      <td>0</td>\n",
       "      <td>0</td>\n",
       "    </tr>\n",
       "    <tr>\n",
       "      <th>C2O</th>\n",
       "      <td>0</td>\n",
       "      <td>0</td>\n",
       "      <td>0</td>\n",
       "      <td>0</td>\n",
       "      <td>0</td>\n",
       "    </tr>\n",
       "  </tbody>\n",
       "</table>\n",
       "<p>3790 rows × 5 columns</p>\n",
       "</div>"
      ],
      "text/plain": [
       "             O  C8NS  C5O2  N  C5NO\n",
       "C11O15P2R2   0     0     0  0     0\n",
       "C37O7P       0     0     0  0     0\n",
       "C11ClNO      0     0     0  0     0\n",
       "C6N3O4       0     0     0  0     0\n",
       "C105N7O36P2  0     0     0  0     0\n",
       "...         ..   ...   ... ..   ...\n",
       "C12NO7PR     0     0     0  0     0\n",
       "C15N5O5      0     0     0  0     0\n",
       "C6N4O2R2     0     0     0  0     0\n",
       "C24NO10S     0     0     0  0     0\n",
       "C2O          0     0     0  0     0\n",
       "\n",
       "[3790 rows x 5 columns]"
      ]
     },
     "execution_count": 12,
     "metadata": {},
     "output_type": "execute_result"
    }
   ],
   "source": [
    "recom.getQueryMatrix(dummy_mat)"
   ]
  },
  {
   "cell_type": "code",
   "execution_count": 15,
   "id": "54976d0e",
   "metadata": {},
   "outputs": [],
   "source": [
    "res = recom.getCandidatesByReactionId()"
   ]
  },
  {
   "cell_type": "code",
   "execution_count": 17,
   "id": "69c9481f",
   "metadata": {},
   "outputs": [
    {
     "data": {
      "text/plain": [
       "95"
      ]
     },
     "execution_count": 17,
     "metadata": {},
     "output_type": "execute_result"
    }
   ],
   "source": [
    "len(res)"
   ]
  },
  {
   "cell_type": "code",
   "execution_count": 19,
   "id": "5dcdf443",
   "metadata": {},
   "outputs": [
    {
     "data": {
      "text/plain": [
       "{'R_PFK': ['RHEA:12423',\n",
       "  'RHEA:13380',\n",
       "  'RHEA:14216',\n",
       "  'RHEA:15656',\n",
       "  'RHEA:16112']}"
      ]
     },
     "execution_count": 19,
     "metadata": {},
     "output_type": "execute_result"
    }
   ],
   "source": [
    "one_cand_dict = recom.getCandidatesByReactionId('R_PFK')\n",
    "one_cand_dict"
   ]
  },
  {
   "cell_type": "code",
   "execution_count": 24,
   "id": "2901eecb",
   "metadata": {},
   "outputs": [
    {
     "data": {
      "text/plain": [
       "'Reaction R_PFK: M_atp_c + M_f6p_c = M_adp_c + M_fdp_c + M_h_c\\nHas possible RHEA IDs as below:\\n\\n0. <RHEA:12420> ATP + D-tagatofuranose 6-phosphate = ADP + D-tagatofuranose 1,6-bisphosphate + H(+)\\n1. <RHEA:13377> alpha-D-glucose 1-phosphate + ATP = ADP + alpha-D-glucose 1,6-bisphosphate + H(+)\\n*********************************************************************************************************************\\n'"
      ]
     },
     "execution_count": 24,
     "metadata": {},
     "output_type": "execute_result"
    }
   ],
   "source": [
    "one_dict = {'R_PFK': ['RHEA:12423', 'RHEA:13380']}\n",
    "recom.getCandidateReport(one_dict, df)"
   ]
  },
  {
   "cell_type": "code",
   "execution_count": 18,
   "id": "a6ec431a",
   "metadata": {},
   "outputs": [
    {
     "data": {
      "text/html": [
       "<div>\n",
       "<style scoped>\n",
       "    .dataframe tbody tr th:only-of-type {\n",
       "        vertical-align: middle;\n",
       "    }\n",
       "\n",
       "    .dataframe tbody tr th {\n",
       "        vertical-align: top;\n",
       "    }\n",
       "\n",
       "    .dataframe thead th {\n",
       "        text-align: right;\n",
       "    }\n",
       "</style>\n",
       "<table border=\"1\" class=\"dataframe\">\n",
       "  <thead>\n",
       "    <tr style=\"text-align: right;\">\n",
       "      <th></th>\n",
       "      <th>equation</th>\n",
       "    </tr>\n",
       "    <tr>\n",
       "      <th>id</th>\n",
       "      <th></th>\n",
       "    </tr>\n",
       "  </thead>\n",
       "  <tbody>\n",
       "    <tr>\n",
       "      <th>RHEA:10000</th>\n",
       "      <td>H2O + pentanamide = NH4(+) + pentanoate</td>\n",
       "    </tr>\n",
       "    <tr>\n",
       "      <th>RHEA:10004</th>\n",
       "      <td>benzyl isothiocyanate = benzyl thiocyanate</td>\n",
       "    </tr>\n",
       "    <tr>\n",
       "      <th>RHEA:10008</th>\n",
       "      <td>[protein]-dithiol + a hydroperoxide = [protein...</td>\n",
       "    </tr>\n",
       "    <tr>\n",
       "      <th>RHEA:10012</th>\n",
       "      <td>(R)-6-hydroxynicotine + H2O + O2 = 6-hydroxyps...</td>\n",
       "    </tr>\n",
       "    <tr>\n",
       "      <th>RHEA:10016</th>\n",
       "      <td>H2O + O-sinapoylcholine = choline + E-sinapate...</td>\n",
       "    </tr>\n",
       "  </tbody>\n",
       "</table>\n",
       "</div>"
      ],
      "text/plain": [
       "                                                     equation\n",
       "id                                                           \n",
       "RHEA:10000            H2O + pentanamide = NH4(+) + pentanoate\n",
       "RHEA:10004         benzyl isothiocyanate = benzyl thiocyanate\n",
       "RHEA:10008  [protein]-dithiol + a hydroperoxide = [protein...\n",
       "RHEA:10012  (R)-6-hydroxynicotine + H2O + O2 = 6-hydroxyps...\n",
       "RHEA:10016  H2O + O-sinapoylcholine = choline + E-sinapate..."
      ]
     },
     "execution_count": 18,
     "metadata": {},
     "output_type": "execute_result"
    }
   ],
   "source": [
    "from bioservices import ChEBI, Rhea\n",
    "r = Rhea()\n",
    "df = r.search(\"\")\n",
    "df = df.iloc[:, :2]\n",
    "df.columns = ['id', 'equation']\n",
    "df.set_index('id', inplace=True)\n",
    "df.head()"
   ]
  },
  {
   "cell_type": "code",
   "execution_count": 28,
   "id": "2e5653e2",
   "metadata": {},
   "outputs": [
    {
     "data": {
      "text/plain": [
       "['RHEA:10003', 'RHEA:10015']"
      ]
     },
     "execution_count": 28,
     "metadata": {},
     "output_type": "execute_result"
    }
   ],
   "source": [
    "recom.sortCandidates(['RHEA:10015', 'RHEA:10003'])"
   ]
  },
  {
   "cell_type": "code",
   "execution_count": 40,
   "id": "0f22de16",
   "metadata": {},
   "outputs": [
    {
     "name": "stdout",
     "output_type": "stream",
     "text": [
      "reaction:  R_PFK\n",
      "M_atp_c\n",
      "1.0\n",
      "reaction:  R_ATPS4r\n",
      "M_h_e\n",
      "4.0\n"
     ]
    }
   ],
   "source": [
    "one_flag = False\n",
    "two_flag = False\n",
    "for one_reac in model.getListOfReactions():\n",
    "  for one_react in one_reac.getListOfReactants():\n",
    "    if not one_flag and one_react.stoichiometry!=1.0:\n",
    "      print(\"reaction: \", one_reac.getId())\n",
    "      print(one_react.species)\n",
    "      print(one_react.stoichiometry)\n",
    "      one_flag = True\n",
    "    if not two_flag and one_react.stoichiometry==1.0:\n",
    "      print(\"reaction: \", one_reac.getId())\n",
    "      print(one_react.species)\n",
    "      print(one_react.stoichiometry)\n",
    "      two_flag = True"
   ]
  },
  {
   "cell_type": "code",
   "execution_count": 54,
   "id": "08afea26",
   "metadata": {},
   "outputs": [
    {
     "name": "stdout",
     "output_type": "stream",
     "text": [
      "R_PGI\n",
      "2\n"
     ]
    }
   ],
   "source": [
    "one_reac = model.getReaction('R_ATPS4r')\n",
    "min_num = 10\n",
    "min_reaction = ''\n",
    "for one_reac in model.getListOfReactions():\n",
    "  num_ele = one_reac.getNumReactants() + one_reac.getNumProducts()\n",
    "  if num_ele < min_num and num_ele>=2:\n",
    "    min_num = num_ele\n",
    "    min_reaction = one_reac.getId()\n",
    "print(min_reaction)\n",
    "print(min_num)"
   ]
  },
  {
   "cell_type": "code",
   "execution_count": 55,
   "id": "5f37e504",
   "metadata": {},
   "outputs": [
    {
     "data": {
      "text/plain": [
       "'M_g6p_c = M_f6p_c'"
      ]
     },
     "execution_count": 55,
     "metadata": {},
     "output_type": "execute_result"
    }
   ],
   "source": [
    "recom.getReactionString(model.getReaction('R_PGI'))"
   ]
  },
  {
   "cell_type": "code",
   "execution_count": 46,
   "id": "dcae4724",
   "metadata": {},
   "outputs": [
    {
     "data": {
      "text/plain": [
       "libsbml.SpeciesReference"
      ]
     },
     "execution_count": 46,
     "metadata": {},
     "output_type": "execute_result"
    }
   ],
   "source": [
    "type(one_react)"
   ]
  },
  {
   "cell_type": "code",
   "execution_count": 47,
   "id": "80a4b494",
   "metadata": {},
   "outputs": [
    {
     "data": {
      "text/plain": [
       "'M_adp_c'"
      ]
     },
     "execution_count": 47,
     "metadata": {},
     "output_type": "execute_result"
    }
   ],
   "source": [
    "recom.formatElement(one_reac.getReactant('M_adp_c'))"
   ]
  },
  {
   "cell_type": "code",
   "execution_count": 48,
   "id": "9aa2f3d6",
   "metadata": {},
   "outputs": [
    {
     "data": {
      "text/plain": [
       "'4.0 * M_h_e'"
      ]
     },
     "execution_count": 48,
     "metadata": {},
     "output_type": "execute_result"
    }
   ],
   "source": [
    "recom.formatElement(one_reac.getReactant('M_h_e'))"
   ]
  },
  {
   "cell_type": "code",
   "execution_count": null,
   "id": "d7939276",
   "metadata": {},
   "outputs": [],
   "source": []
  }
 ],
 "metadata": {
  "kernelspec": {
   "display_name": "pyo",
   "language": "python",
   "name": "pyo"
  },
  "language_info": {
   "codemirror_mode": {
    "name": "ipython",
    "version": 3
   },
   "file_extension": ".py",
   "mimetype": "text/x-python",
   "name": "python",
   "nbconvert_exporter": "python",
   "pygments_lexer": "ipython3",
   "version": "3.8.8"
  }
 },
 "nbformat": 4,
 "nbformat_minor": 5
}
