{
 "cells": [
  {
   "cell_type": "code",
   "execution_count": 1,
   "id": "e4088d7d",
   "metadata": {},
   "outputs": [
    {
     "name": "stdout",
     "output_type": "stream",
     "text": [
      "1000\n",
      "108\n"
     ]
    }
   ],
   "source": [
    "# evaluate candidates identified by reaction_recommender \n",
    "import collections\n",
    "import itertools\n",
    "import libsbml\n",
    "import networkx as nx\n",
    "import numpy as np\n",
    "import os\n",
    "import pandas as pd\n",
    "import pickle\n",
    "import random\n",
    "import re\n",
    "import requests\n",
    "\n",
    "import matplotlib.pyplot as plt\n",
    "%matplotlib inline  \n",
    "\n",
    "script_path = \"/Users/woosubs/Desktop/AutomateAnnotation/reaction_recommender/reaction_recommender/\"\n",
    "os.sys.path.append(script_path)\n",
    "\n",
    "# import get_annotation as ga\n",
    "from reaction_recommender import annotation_container as ac\n",
    "from reaction_recommender import reaction_recommender as recommender\n",
    "\n",
    "BASE_DIR = '/Users/woosubs/Desktop/AutomateAnnotation/'\n",
    "BIOMD_12 = 'BIOMD0000000012.xml'\n",
    "DATA_DIR = os.path.join(BASE_DIR, \"DATA\")\n",
    "RHEA_DIR = os.path.join(DATA_DIR, \"rhea\")\n",
    "# BioModel files\n",
    "BIOMODEL_DIR = os.path.join(DATA_DIR, \"biomodels/curated_biomodels_31mar2021\")\n",
    "biomd_files = [f for f in os.listdir(BIOMODEL_DIR) if f[-4:] == \".xml\"]\n",
    "print(len(biomd_files))\n",
    "biomd_fpaths = [os.path.join(BIOMODEL_DIR, one_file) for one_file in biomd_files]\n",
    "\n",
    "# BiGG files\n",
    "BIGG_DIR = '/Users/woosubs/Desktop/AutomateAnnotation/DATA/bigg'\n",
    "ecoli_fpath = os.path.join(BIGG_DIR, \"e_coli_core.xml\")\n",
    "bigg_files = [f for f in os.listdir(BIGG_DIR) if f[-4:]=='.xml']\n",
    "bigg_fpaths = [os.path.join(BIGG_DIR, f) for f in bigg_files]\n",
    "print(len(bigg_files))\n",
    "one_fpath = bigg_fpaths[0]"
   ]
  },
  {
   "cell_type": "code",
   "execution_count": 2,
   "id": "260a3c03",
   "metadata": {},
   "outputs": [],
   "source": [
    "# Dictionaries\n",
    "with open(os.path.join(DATA_DIR, 'all_shortened_chebi_to_formula_19nov2021.pkl'), 'rb') as f:\n",
    "  ref_shortened_chebi_to_formula = pickle.load(f)\n",
    "# below is full version\n",
    "with open(os.path.join(DATA_DIR, 'all_possible_chebi_to_formula_12nov2021.pkl'), 'rb') as f:\n",
    "  ref_full_chebi_to_formula = pickle.load(f)\n",
    "# map secondary id to primary id\n",
    "with open(os.path.join(DATA_DIR, 'chebi_second2prime_8nov2021.pickle'), 'rb') as f:\n",
    "  ref_second2prime_dict = pickle.load(f)\n",
    "# RHEA All Ids to Bi Id (KEGG Mappable)\n",
    "with open(os.path.join(RHEA_DIR, 'rhea_all2bi.pkl'), 'rb') as f:\n",
    "  ref_rhea2bi = pickle.load(f)\n",
    "with open(os.path.join(RHEA_DIR, 'rhea_all2master.pkl'), 'rb') as f:\n",
    "  ref_rhea2master = pickle.load(f)\n",
    "with open(os.path.join(RHEA_DIR, 'rhea2chebi_reference.pkl'), 'rb') as f:\n",
    "  ref_rhea2chebi = pickle.load(f)"
   ]
  },
  {
   "cell_type": "code",
   "execution_count": 3,
   "id": "a1e60a69",
   "metadata": {},
   "outputs": [],
   "source": [
    "df = pd.read_csv(os.path.join(RHEA_DIR, 'rhea_string_equation.tsv'), sep='\\t', index_col=0)"
   ]
  },
  {
   "cell_type": "code",
   "execution_count": 4,
   "id": "6830f637",
   "metadata": {},
   "outputs": [
    {
     "data": {
      "text/html": [
       "<div>\n",
       "<style scoped>\n",
       "    .dataframe tbody tr th:only-of-type {\n",
       "        vertical-align: middle;\n",
       "    }\n",
       "\n",
       "    .dataframe tbody tr th {\n",
       "        vertical-align: top;\n",
       "    }\n",
       "\n",
       "    .dataframe thead th {\n",
       "        text-align: right;\n",
       "    }\n",
       "</style>\n",
       "<table border=\"1\" class=\"dataframe\">\n",
       "  <thead>\n",
       "    <tr style=\"text-align: right;\">\n",
       "      <th></th>\n",
       "      <th>equation</th>\n",
       "    </tr>\n",
       "    <tr>\n",
       "      <th>id</th>\n",
       "      <th></th>\n",
       "    </tr>\n",
       "  </thead>\n",
       "  <tbody>\n",
       "    <tr>\n",
       "      <th>RHEA:10000</th>\n",
       "      <td>H2O + pentanamide = NH4(+) + pentanoate</td>\n",
       "    </tr>\n",
       "    <tr>\n",
       "      <th>RHEA:10004</th>\n",
       "      <td>benzyl isothiocyanate = benzyl thiocyanate</td>\n",
       "    </tr>\n",
       "    <tr>\n",
       "      <th>RHEA:10008</th>\n",
       "      <td>[protein]-dithiol + a hydroperoxide = [protein...</td>\n",
       "    </tr>\n",
       "    <tr>\n",
       "      <th>RHEA:10012</th>\n",
       "      <td>(R)-6-hydroxynicotine + H2O + O2 = 6-hydroxyps...</td>\n",
       "    </tr>\n",
       "    <tr>\n",
       "      <th>RHEA:10016</th>\n",
       "      <td>H2O + O-sinapoylcholine = choline + E-sinapate...</td>\n",
       "    </tr>\n",
       "  </tbody>\n",
       "</table>\n",
       "</div>"
      ],
      "text/plain": [
       "                                                     equation\n",
       "id                                                           \n",
       "RHEA:10000            H2O + pentanamide = NH4(+) + pentanoate\n",
       "RHEA:10004         benzyl isothiocyanate = benzyl thiocyanate\n",
       "RHEA:10008  [protein]-dithiol + a hydroperoxide = [protein...\n",
       "RHEA:10012  (R)-6-hydroxynicotine + H2O + O2 = 6-hydroxyps...\n",
       "RHEA:10016  H2O + O-sinapoylcholine = choline + E-sinapate..."
      ]
     },
     "execution_count": 4,
     "metadata": {},
     "output_type": "execute_result"
    }
   ],
   "source": [
    "df.head()"
   ]
  },
  {
   "cell_type": "code",
   "execution_count": 72,
   "id": "0352d627",
   "metadata": {},
   "outputs": [],
   "source": [
    "recom = recommender.ReactionRecommender(model_file=os.path.join(BIGG_DIR, ecoli_fpath))"
   ]
  },
  {
   "cell_type": "code",
   "execution_count": 73,
   "id": "288e3438",
   "metadata": {},
   "outputs": [
    {
     "name": "stdout",
     "output_type": "stream",
     "text": [
      "['R_PFK', 'R_PFL', 'R_PGI', 'R_PGK', 'R_PGL', 'R_ACALD', 'R_AKGt2r', 'R_PGM', 'R_PIt2r', 'R_ALCD2x', 'R_ACALDt', 'R_ACKr', 'R_PPC', 'R_ACONTa', 'R_ACONTb', 'R_ATPM', 'R_PPCK', 'R_ACt2r', 'R_PPS', 'R_ADK1', 'R_AKGDH', 'R_ATPS4r', 'R_PTAr', 'R_PYK', 'R_BIOMASS_Ecoli_core_w_GAM', 'R_PYRt2', 'R_CO2t', 'R_RPE', 'R_CS', 'R_RPI', 'R_SUCCt2_2', 'R_CYTBD', 'R_D_LACt2', 'R_ENO', 'R_SUCCt3', 'R_ETOHt2r', 'R_SUCDi', 'R_SUCOAS', 'R_TALA', 'R_THD2', 'R_TKT1', 'R_TKT2', 'R_TPI', 'R_EX_ac_e', 'R_EX_acald_e', 'R_EX_akg_e', 'R_EX_co2_e', 'R_EX_etoh_e', 'R_EX_for_e', 'R_EX_fru_e', 'R_EX_fum_e', 'R_EX_glc__D_e', 'R_EX_gln__L_e', 'R_EX_glu__L_e', 'R_EX_h_e', 'R_EX_h2o_e', 'R_EX_lac__D_e', 'R_EX_mal__L_e', 'R_EX_nh4_e', 'R_EX_o2_e', 'R_EX_pi_e', 'R_EX_pyr_e', 'R_EX_succ_e', 'R_FBA', 'R_FBP', 'R_FORt2', 'R_FORt', 'R_FRD7', 'R_FRUpts2', 'R_FUM', 'R_FUMt2_2', 'R_G6PDH2r', 'R_GAPD', 'R_GLCpts', 'R_GLNS', 'R_GLNabc', 'R_GLUDy', 'R_GLUN', 'R_GLUSy', 'R_GLUt2r', 'R_GND', 'R_H2Ot', 'R_ICDHyr', 'R_ICL', 'R_LDH_D', 'R_MALS', 'R_MALt2_2', 'R_MDH', 'R_ME1', 'R_ME2', 'R_NADH16', 'R_NADTRHD', 'R_NH4t', 'R_O2t', 'R_PDH']\n"
     ]
    }
   ],
   "source": [
    "print(list(recom.reac_dict.keys()))"
   ]
  },
  {
   "cell_type": "code",
   "execution_count": 80,
   "id": "45febbd1",
   "metadata": {},
   "outputs": [],
   "source": [
    "rid = 'R_PFK'\n",
    "max_rid_len = 0\n",
    "max_rid_name = ''\n",
    "for rid in list(recom.reac_dict.keys()):\n",
    "  candidates = recom.getCandidatesByReactionId(reaction_ids=rid)\n",
    "  len_cands = len(candidates[rid])\n",
    "  if len_cands > max_rid_len and len_cands < 200:\n",
    "    max_rid_len = len_cands\n",
    "    max_rid_name = rid"
   ]
  },
  {
   "cell_type": "code",
   "execution_count": 81,
   "id": "1e7a87cf",
   "metadata": {},
   "outputs": [
    {
     "data": {
      "text/plain": [
       "189"
      ]
     },
     "execution_count": 81,
     "metadata": {},
     "output_type": "execute_result"
    }
   ],
   "source": [
    "max_rid_len"
   ]
  },
  {
   "cell_type": "code",
   "execution_count": 92,
   "id": "e21844db",
   "metadata": {},
   "outputs": [
    {
     "name": "stdout",
     "output_type": "stream",
     "text": [
      "Reaction R_AKGt2r: M_akg_e + M_h_e = M_akg_c + M_h_c\n",
      "Has possible RHEA IDs as below:\n",
      "\n",
      "0. <RHEA:28947> H(+)(out) + L-arabinose(in) = H(+)(in) + L-arabinose(out)\n",
      "1. <RHEA:28951> H(+)(in) + L-arabinose(in) = H(+)(out) + L-arabinose(out)\n",
      "2. <RHEA:28959> D-xylose(in) + H(+)(in) = D-xylose(out) + H(+)(out)\n",
      "3. <RHEA:29011> 2-oxoglutarate(in) + H(+)(in) = 2-oxoglutarate(out) + H(+)(out)\n",
      "4. <RHEA:29991> H(+)(in) + L-lyxose(in) = H(+)(out) + L-lyxose(out)\n",
      "5. <RHEA:66428> D-arabinose(out) + H(+)(out) = D-arabinose(in) + H(+)(in)\n",
      "6. <RHEA:11868> D-arabinitol + NADP(+) = D-ribulose + H(+) + NADPH\n",
      "7. <RHEA:13449> 2-hydroxyglutarate + NAD(+) = 2-oxoglutarate + H(+) + NADH\n",
      "8. <RHEA:13861> D-xylose + NAD(+) = D-xylono-1,5-lactone + H(+) + NADH\n",
      "9. <RHEA:15301> D-apiitol + NAD(+) = aldehydo-D-apiose + H(+) + NADH\n",
      "10. <RHEA:15789> L-xylose + NADP(+) = H(+) + L-xylono-1,4-lactone + NADPH\n",
      "11. <RHEA:16381> L-arabinitol + NAD(+) = H(+) + L-xylulose + NADH\n",
      "12. <RHEA:17025> NADP(+) + xylitol = H(+) + L-xylulose + NADPH\n",
      "13. <RHEA:17389> D-arabinitol + NAD(+) = D-ribulose + H(+) + NADH\n",
      "14. <RHEA:17921> D-arabinitol + NAD(+) = D-xylulose + H(+) + NADH\n",
      "15. <RHEA:17925> L-arabinofuranose + NAD(+) = H(+) + L-arabinono-1,4-lactone + NADH\n",
      "16. <RHEA:20053> NAD(+) + ribitol = D-ribulose + H(+) + NADH\n",
      "17. <RHEA:20433> NAD(+) + xylitol = D-xylulose + H(+) + NADH\n",
      "18. <RHEA:20457> D-arabinose + NAD(+) = D-arabinono-1,4-lactone + H(+) + NADH\n",
      "19. <RHEA:21276> D-arabinitol + NADP(+) = D-xylulose + H(+) + NADPH\n",
      "20. <RHEA:21356> L-arabinitol + NAD(+) = H(+) + L-ribulose + NADH\n",
      "21. <RHEA:21892> D-arabinose + NADP(+) = D-arabinono-1,4-lactone + H(+) + NADPH\n",
      "22. <RHEA:22000> D-xylose + NADP(+) = D-xylono-1,5-lactone + H(+) + NADPH\n",
      "23. <RHEA:23756> D-arabinono-1,4-lactone + O2 = dehydro-D-arabinono-1,4-lactone + H(+) + H2O2\n",
      "24. <RHEA:25225> L-arabinitol + NAD(+) = H(+) + L-arabinose + NADH\n",
      "25. <RHEA:25229> L-arabinitol + NADP(+) = H(+) + L-arabinose + NADPH\n",
      "26. <RHEA:25261> 2-hydroxyglutarate + FAD + H(+) = 2-oxoglutarate + FADH2\n",
      "27. <RHEA:25763> (2R,3S)-3-methylmalate + NAD(+) = 3-carboxy-2-oxobutanoate + H(+) + NADH\n",
      "28. <RHEA:27441> NAD(+) + xylitol = D-xylose + H(+) + NADH\n",
      "29. <RHEA:27445> NADP(+) + xylitol = D-xylose + H(+) + NADPH\n",
      "30. <RHEA:30087> (S)-2-hydroxyglutarate + FAD + H(+) = 2-oxoglutarate + FADH2\n",
      "31. <RHEA:36959> D-ribono-1,4-lactone + H(+) + NADH = D-ribose + NAD(+)\n",
      "32. <RHEA:42664> L-arabinofuranose + NADP(+) = H(+) + L-arabinono-1,4-lactone + NADPH\n",
      "33. <RHEA:49612> (R)-2-hydroxyglutarate + NAD(+) = 2-oxoglutarate + H(+) + NADH\n",
      "34. <RHEA:51192> (R)-2-hydroxyglutarate + NADP(+) = 2-oxoglutarate + H(+) + NADPH\n",
      "35. <RHEA:52308> 2-hydroxyglutarate + NADP(+) = 2-oxoglutarate + H(+) + NADPH\n",
      "36. <RHEA:57056> D-apiofuranose + NAD(+) = D-apionolactone + H(+) + NADH\n",
      "37. <RHEA:57168> (R)-2-hydroxyglutarate + FAD + H(+) = 2-oxoglutarate + FADH2\n",
      "38. <RHEA:57172> (S)-2-hydroxyglutarate + NAD(+) = 2-oxoglutarate + H(+) + NADH\n",
      "39. <RHEA:64416> D-xylofuranose + NADP(+) = D-xylono-1,4-lactone + H(+) + NADPH\n",
      "40. <RHEA:10524> 2-oxoglutarate + H(+) = CO2 + succinate semialdehyde\n",
      "41. <RHEA:11084> 3-dehydro-L-gulonate + H(+) = CO2 + L-xylulose\n",
      "42. <RHEA:16217> H2O + L-arabinono-1,4-lactone = H(+) + L-arabinonate\n",
      "43. <RHEA:18341> D-xylono-1,4-lactone + H2O = D-xylonate + H(+)\n",
      "44. <RHEA:19381> (S)-oxalosuccinate + H(+) = 2-oxoglutarate + CO2\n",
      "45. <RHEA:23108> D-arabinono-1,4-lactone + H2O = D-arabinonate + H(+)\n",
      "46. <RHEA:25767> 3-carboxy-2-oxobutanoate + H(+) = 2-oxobutanoate + CO2\n",
      "47. <RHEA:36367> (S)-alpha-hydroxyglutarate-gamma-lactone + H2O = 2-hydroxyglutarate + H(+)\n",
      "48. <RHEA:57064> D-apionolactone + H2O = D-apionate + H(+)\n",
      "49. <RHEA:59328> D-xylono-1,5-lactone + H2O = D-xylonate + H(+)\n",
      "50. <RHEA:10564> H2O + oxaloacetate 4-methyl ester = H(+) + methanol + oxaloacetate\n",
      "51. <RHEA:10880> 7-methylxanthosine + H2O = 7-methylxanthine + D-ribose + H(+)\n",
      "52. <RHEA:10964> ATP + D-xylulose = ADP + D-xylulose 5-phosphate + H(+)\n",
      "53. <RHEA:11296> 2,5-dioxopentanoate + H2O + NADP(+) = 2-oxoglutarate + 2 H(+) + NADPH\n",
      "54. <RHEA:11408> H(+) + H2O + riboflavin = lumichrome + ribitol\n",
      "55. <RHEA:11676> D-ribose + H2O + NADP(+) = D-ribonate + 2 H(+) + NADPH\n",
      "56. <RHEA:12128> 2 L-glutamate + 2 oxidized [2Fe-2S]-[ferredoxin] = 2-oxoglutarate + 2 H(+) + L-glutamine + 2 reduced [2Fe-2S]-[ferredoxin]\n",
      "57. <RHEA:12188> 2-oxoglutarate + [dihydrolipoyllysine-residue succinyltransferase]-(R)-N(6)-lipoyl-L-lysine + H(+) = [dihydrolipoyllysine-residue succinyltransferase]-(R)-N(6)-(S(8)-succinyldihydrolipoyl)-L-lysine + CO2\n",
      "58. <RHEA:13697> ATP + D-ribose = ADP + D-ribose 5-phosphate + H(+)\n",
      "59. <RHEA:13753> 2 L-glutamate + NAD(+) = 2-oxoglutarate + H(+) + L-glutamine + NADH\n",
      "60. <RHEA:14341> 2-oxoglutarate + glyoxylate + H(+) = 2-hydroxy-3-oxoadipate + CO2\n",
      "61. <RHEA:15501> 2 L-glutamate + NADP(+) = 2-oxoglutarate + H(+) + L-glutamine + NADPH\n",
      "62. <RHEA:17601> ATP + D-ribulose = ADP + D-ribulose 5-phosphate + H(+)\n",
      "63. <RHEA:18869> ATP + L-xylulose = ADP + H(+) + L-xylulose 5-phosphate\n",
      "64. <RHEA:20153> ATP + L-arabinose = ADP + beta-L-arabinose 1-phosphate + H(+)\n",
      "65. <RHEA:20209> ATP + xylitol = ADP + H(+) + xylitol 5-phosphate\n",
      "66. <RHEA:22072> ATP + L-ribulose = ADP + H(+) + L-ribulose 5-phosphate\n",
      "67. <RHEA:24588> ATP + D-arabinose = ADP + D-arabinose 5-phosphate + H(+)\n",
      "68. <RHEA:25593> 2-oxoglutarate + H(+) + isochorismate = 5-enolpyruvoyl-6-hydroxy-2-succinyl-cyclohex-3-ene-1-carboxylate + CO2\n",
      "69. <RHEA:30743> beta-nicotinamide D-riboside + H2O = D-ribose + H(+) + nicotinamide\n",
      "70. <RHEA:47152> 2,5-dioxopentanoate + H2O + NAD(+) = 2-oxoglutarate + 2 H(+) + NADH\n",
      "71. <RHEA:57020> apulose + ATP = ADP + apulose 4-phosphate + H(+)\n",
      "72. <RHEA:10364> 2-oxoglutarate + dodecanoyl-CoA + H2O = (3S,4S)-3-hydroxytetradecane-1,3,4-tricarboxylate + CoA + H(+)\n",
      "73. <RHEA:11612> H2O + L-glutamate + NADP(+) = 2-oxoglutarate + H(+) + NADPH + NH4(+)\n",
      "74. <RHEA:12440> H2O + L-saccharopine + NAD(+) = 2-oxoglutarate + H(+) + L-lysine + NADH\n",
      "75. <RHEA:12929> 2-oxoglutarate + acetyl-CoA + H2O = (2R)-homocitrate + CoA + H(+)\n",
      "76. <RHEA:15133> H2O + L-glutamate + NAD(+) = 2-oxoglutarate + H(+) + NADH + NH4(+)\n",
      "77. <RHEA:17297> 2-oxoglutarate + CoA + 2 oxidized [2Fe-2S]-[ferredoxin] = CO2 + H(+) + 2 reduced [2Fe-2S]-[ferredoxin] + succinyl-CoA\n",
      "78. <RHEA:19045> acetyl-CoA + H2O + pyruvate = (3R)-citramalate + CoA + H(+)\n",
      "79. <RHEA:19185> glyoxylate + H2O + propanoyl-CoA = 2-hydroxyglutarate + CoA + H(+)\n",
      "80. <RHEA:19373> H2O + L-saccharopine + NADP(+) = 2-oxoglutarate + H(+) + L-lysine + NADPH\n",
      "81. <RHEA:19637> D-nopaline + H2O + NADP(+) = 2-oxoglutarate + H(+) + L-arginine + NADPH\n",
      "82. <RHEA:23988> (2S,6S)-2,6-diaminoheptanedioate + 2-oxoglutarate = (S)-2,3,4,5-tetrahydrodipicolinate + H(+) + H2O + L-glutamate\n",
      "83. <RHEA:29899> ATP + D-xylose(out) + H2O = ADP + D-xylose(in) + H(+) + phosphate\n",
      "84. <RHEA:29903> ATP + D-ribose(out) + H2O = ADP + D-ribose(in) + H(+) + phosphate\n",
      "85. <RHEA:30007> ATP + H2O + L-arabinose(out) = ADP + H(+) + L-arabinose(in) + phosphate\n",
      "86. <RHEA:31523> 2-oxoglutarate + 2 H(+) + O2 = 3 CO2 + ethene + H2O\n",
      "87. <RHEA:32191> H2O + L-glutamate + 2 oxidized [2Fe-2S]-[ferredoxin] = 2-oxoglutarate + 2 H(+) + NH4(+) + 2 reduced [2Fe-2S]-[ferredoxin]\n",
      "88. <RHEA:47628> glyoxylate + H2O + propanoyl-CoA = 3-methylmalate + CoA + H(+)\n",
      "89. <RHEA:49492> GDP-4-dehydro-alpha-D-rhamnose + L-glutamate = 2-GDP-(2S,3S,6R)-3-hydroxy-5-amino-6-methyl-3,6-dihydro-2H-pyran + 2-oxoglutarate + H(+) + H2O\n",
      "90. <RHEA:51928> H2O + N-[(2S)-2-amino-2-carboxyethyl]-L-glutamate + NAD(+) = (S)-2,3-diaminopropanoate + 2-oxoglutarate + H(+) + NADH\n",
      "91. <RHEA:59784> H2O + NADP(+) + pseudopaline = (2S)-2-amino-4-{[(1S)-1-carboxy-2-(1H-imidazol-4-yl)ethyl]amino}butanoate + 2-oxoglutarate + H(+) + NADPH\n",
      "92. <RHEA:59788> H2O + NAD(+) + pseudopaline = (2S)-2-amino-4-{[(1S)-1-carboxy-2-(1H-imidazol-4-yl)ethyl]amino}butanoate + 2-oxoglutarate + H(+) + NADH\n",
      "93. <RHEA:10764> (2R,3S,4S)-leucocyanidin + 2-oxoglutarate + O2 = (4S)-2,3-dehydroleucocyanidin + CO2 + H(+) + H2O + succinate\n",
      "94. <RHEA:10768> (2R,3S,4S)-3,4-leucopelargonidin + 2-oxoglutarate + O2 = (4S)-2,3-dehydroleucopelargonidin + CO2 + H(+) + H2O + succinate\n",
      "95. <RHEA:12797> (6S)-6-hydroxyhyoscyamine + 2-oxoglutarate + O2 = CO2 + H(+) + H2O + scopolamine + succinate\n",
      "96. <RHEA:14509> 2-oxoglutarate + mugineate + O2 = 3-epihydroxymugineate + CO2 + H(+) + succinate\n",
      "97. <RHEA:20065> 2'-deoxymugineate + 2-oxoglutarate + O2 = 3-epihydroxy-2'-deoxymugineate + CO2 + H(+) + succinate\n",
      "98. <RHEA:20425> 2-oxoglutarate + ATP + hydrogencarbonate = (S)-oxalosuccinate + ADP + H(+) + phosphate\n",
      "99. <RHEA:30299> 2-oxoglutarate + a methylated nucleobase within DNA + O2 = a nucleobase within DNA + CO2 + formaldehyde + succinate\n",
      "100. <RHEA:32755> (2S)-naringenin + 2-oxoglutarate + O2 = apigenin + CO2 + H(+) + H2O + succinate\n",
      "101. <RHEA:37127> 2-oxoglutarate + dioxidophosphate + H2O2 = CO2 + H(+) + phosphonate + succinate\n",
      "102. <RHEA:48752> 2-oxoglutarate + O2 + validamycin A = CO2 + H(+) + succinate + validamycin B\n",
      "103. <RHEA:53832> 2-oxoglutarate + a 5-formyl-2'-deoxycytidine in DNA + O2 = a 5-carboxyl-2'-deoxycytidine in DNA + CO2 + H(+) + succinate\n",
      "104. <RHEA:54436> 2-oxoglutarate + a (2R,3S,4S)-leucoanthocyanidin + O2 = a (4S)-2,3-dehydroflavan-3,4-diol + CO2 + H(+) + H2O + succinate\n",
      "105. <RHEA:55648> 2-oxoglutarate + O2 + validoxylamine A = CO2 + H(+) + succinate + validoxylamine B\n",
      "106. <RHEA:59132> 2-[(L-alanin-3-ylcarbamoyl)methyl]-3-(2-aminoethylcarbamoyl)-2-hydroxypropanoate + 2-oxoglutarate + ATP = AMP + diphosphate + H(+) + staphyloferrin B\n",
      "107. <RHEA:60784> 2-oxoglutarate + gibberellin A24 + O2 = CO2 + gibberellin A25 + H(+) + succinate\n",
      "108. <RHEA:60804> 2-oxoglutarate + gibberellin A19 + O2 = CO2 + gibberellin A17 + H(+) + succinate\n",
      "109. <RHEA:60812> 2-oxoglutarate + gibberellin A12 aldehyde + O2 = CO2 + gibberellin A12 + H(+) + succinate\n",
      "110. <RHEA:60816> 2-oxoglutarate + gibberellin A14 aldehyde + O2 = CO2 + gibberellin A14 + H(+) + succinate\n",
      "111. <RHEA:61132> (2R,3R)-dihydrokaempferol + 2-oxoglutarate + O2 = CO2 + H(+) + H2O + kaempferol + succinate\n",
      "112. <RHEA:61136> (2R,3R)-dihydroquercetin + 2-oxoglutarate + O2 = CO2 + H(+) + H2O + quercetin + succinate\n",
      "113. <RHEA:61140> (2R,3R)-dihydromyricetin + 2-oxoglutarate + O2 = CO2 + H(+) + H2O + myricetin + succinate\n",
      "114. <RHEA:15909> 2-oxoglutarate + O2 + taurine = aminoacetaldehyde + CO2 + H(+) + succinate + sulfite\n",
      "115. <RHEA:47620> 2-ethylhexyl sulfate + 2-oxoglutarate + O2 = 2-ethylhexanal + CO2 + H(+) + succinate + sulfate\n",
      "116. <RHEA:56692> (2S)-3-(4-hydroxyphenyl)-2-isocyanopropanoate + 2-oxoglutarate + H(+) + O2 = 4-[(E)-2-isocyanoethenyl]phenol + 2 CO2 + H2O + succinate\n",
      "117. <RHEA:56700> (2S)-3-(1H-indol-3-yl)-2-isocyanopropanoate + 2-oxoglutarate + H(+) + O2 = 3-[(Z)-2-isocyanoethenyl]-1H-indole + 2 CO2 + H2O + succinate\n",
      "118. <RHEA:56704> (2S)-3-(1H-indol-3-yl)-2-isocyanopropanoate + 2-oxoglutarate + H(+) + O2 = 3-[(E)-2-isocyanovinyl]indole + 2 CO2 + H2O + succinate\n",
      "119. <RHEA:58784> 2-oxoglutarate + a 5'-end methyltriphosphate-guanosine-ribonucleotide-snRNA + O2 = a 5'-end triphospho-guanosine-ribonucleotide-snRNA + CO2 + formaldehyde + H(+) + succinate\n",
      "120. <RHEA:60768> 3 2-oxoglutarate + gibberellin A12 + 3 O2 = 3 CO2 + gibberellin A25 + H(+) + H2O + 3 succinate\n",
      "121. <RHEA:60772> 2 2-oxoglutarate + gibberellin A12 + H(+) + 3 O2 = 3 CO2 + gibberellin A9 + 2 H2O + 2 succinate\n",
      "122. <RHEA:60792> 3 2-oxoglutarate + gibberellin A53 + 3 O2 = 3 CO2 + gibberellin A17 + H(+) + H2O + 3 succinate\n",
      "123. <RHEA:60796> 2 2-oxoglutarate + gibberellin A53 + H(+) + 3 O2 = 3 CO2 + gibberellin A20 + 2 H2O + 2 succinate\n",
      "124. <RHEA:31535> 2-oxoglutarate + L-arginine + O2 = (S)-1-pyrroline-5-carboxylate + CO2 + guanidine + H(+) + H2O + succinate\n",
      "125. <RHEA:54992> 3 A + FMN + H2O + L-glutamate + O2 = 2-oxoglutarate + 8-amino-8-demethylriboflavin 5'-phosphate + 3 AH2 + CO2 + H(+)\n",
      "126. <RHEA:56764> 12-epi-fischerindole U + 2-oxoglutarate + chloride + H(+) + O2 = 12-epi-fischerindole G + CO2 + H2O + succinate\n",
      "127. <RHEA:56812> 2-oxoglutarate + chloride + H(+) + L-threonyl-[peptidyl-carrier protein] + O2 = 4-chloro-L-threonyl-[peptidyl-carrier protein] + CO2 + H2O + succinate\n",
      "128. <RHEA:57356> 2-oxoglutarate + chloride + H(+) + hapalindole U + O2 = CO2 + H2O + hapalindole G + succinate\n",
      "129. <RHEA:59884> 2-oxoglutarate + chloride + H(+) + L-lysine + O2 = 4-chloro-L-lysine + CO2 + H2O + succinate\n",
      "*********************************************************************************************************************\n",
      "\n"
     ]
    }
   ],
   "source": [
    "cand_dict = recom.getCandidatesByReactionId(reaction_ids='R_AKGt2r')\n",
    "print(recom.getCandidateReport(cand_dict, df))"
   ]
  },
  {
   "cell_type": "code",
   "execution_count": 93,
   "id": "7fcef498",
   "metadata": {},
   "outputs": [],
   "source": [
    "# Now, check it with actual term (considered as gold standard)\n",
    "anot_container = ac.AnnotationContainer(model_file=os.path.join(BIGG_DIR, ecoli_fpath))\n",
    "true_vaules = getTrueReactionAnnotation(container=anot_container,\n",
    "                                          reaction_id='R_AKGt2r',\n",
    "                                          qualifier_type='rhea')"
   ]
  },
  {
   "cell_type": "code",
   "execution_count": 94,
   "id": "8e63684a",
   "metadata": {},
   "outputs": [
    {
     "data": {
      "text/plain": [
       "['RHEA:29011', 'RHEA:29013', 'RHEA:29012', 'RHEA:29014']"
      ]
     },
     "execution_count": 94,
     "metadata": {},
     "output_type": "execute_result"
    }
   ],
   "source": [
    "true_vaules"
   ]
  },
  {
   "cell_type": "code",
   "execution_count": 5,
   "id": "ad2579ee",
   "metadata": {},
   "outputs": [],
   "source": [
    "def getTrueReactionAnnotation(container, reaction_id, qualifier_type='rhea'):\n",
    "  \"\"\"\n",
    "  Get the list of true reaction annotations, \n",
    "  so that we can check whether \n",
    "  the predicted id was correct. \n",
    "  returrn: list-str/None\n",
    "  \"\"\"\n",
    "  one_anot = container.model.getReaction(reaction_id).getAnnotationString()\n",
    "  rhea_nums = container.getQualifierFromString(input_str=one_anot, qualifier=qualifier_type)\n",
    "  if rhea_nums:\n",
    "    return['RHEA:'+val for val in rhea_nums]\n",
    "  else:\n",
    "    return None"
   ]
  },
  {
   "cell_type": "code",
   "execution_count": 49,
   "id": "591274ea",
   "metadata": {},
   "outputs": [],
   "source": [
    "# test the method\n",
    "# getTrueReactionAnnotation(container=anot_container, reaction_id='R_PFK', qualifier_type='rhea')"
   ]
  },
  {
   "cell_type": "code",
   "execution_count": 44,
   "id": "5cd558d4",
   "metadata": {},
   "outputs": [],
   "source": [
    "CANDIDATE_NUM = 5\n",
    "all_reaction_ids = list(recom.reac_dict.keys())\n",
    "one_reaction_id = all_reaction_ids[0]\n",
    "result = []\n",
    "for one_reaction_id in all_reaction_ids:\n",
    "  true_vaules = getTrueReactionAnnotation(container=anot_container,\n",
    "                                          reaction_id=one_reaction_id,\n",
    "                                          qualifier_type='rhea')\n",
    "  if true_vaules is None:\n",
    "    result.append(None)\n",
    "  else:\n",
    "    candidates = recom.getCandidatesByReactionId(reaction_ids=one_reaction_id)\n",
    "    ranked_candidates = recom.sortCandidates(candidate_list=candidates[one_reaction_id])[:CANDIDATE_NUM]\n",
    "    intersects = [val in ranked_candidates for val in true_vaules]\n",
    "    # determine if result is correct\n",
    "    result.append(any(intersects))"
   ]
  },
  {
   "cell_type": "code",
   "execution_count": 48,
   "id": "374ddc94",
   "metadata": {},
   "outputs": [
    {
     "data": {
      "text/plain": [
       "0.967741935483871"
      ]
     },
     "execution_count": 48,
     "metadata": {},
     "output_type": "execute_result"
    }
   ],
   "source": [
    "valid_result = [val for val in result if val is not None]\n",
    "np.sum(valid_result) / len(valid_result)"
   ]
  },
  {
   "cell_type": "code",
   "execution_count": null,
   "id": "c0e3ba9e",
   "metadata": {},
   "outputs": [],
   "source": [
    "# Now, get the statistic of all models?! "
   ]
  },
  {
   "cell_type": "code",
   "execution_count": 33,
   "id": "e4454a80",
   "metadata": {},
   "outputs": [
    {
     "name": "stdout",
     "output_type": "stream",
     "text": [
      "We are at 0\n",
      "We are at 10\n",
      "We are at 20\n",
      "We are at 30\n",
      "We are at 40\n",
      "We are at 50\n",
      "We are at 60\n",
      "We are at 70\n",
      "We are at 80\n",
      "We are at 90\n",
      "We are at 100\n"
     ]
    }
   ],
   "source": [
    "CANDIDATE_NUM = 3\n",
    "k_precision_3 = []\n",
    "for idx, one_fpath in enumerate(bigg_fpaths):\n",
    "  if idx % 10 == 0:\n",
    "    print(\"We are at\", idx)\n",
    "  recom = recommender.ReactionRecommender(model_file=one_fpath)\n",
    "  anot_container = ac.AnnotationContainer(model_file=one_fpath)\n",
    "  all_reaction_ids = list(recom.reac_dict.keys())\n",
    "  one_reaction_id = all_reaction_ids[0]\n",
    "  result = []\n",
    "  for one_reaction_id in all_reaction_ids:\n",
    "    true_vaules = getTrueReactionAnnotation(container=anot_container,\n",
    "                                            reaction_id=one_reaction_id,\n",
    "                                            qualifier_type='rhea')\n",
    "    if true_vaules is None:\n",
    "      result.append(None)\n",
    "    else:\n",
    "      candidates = recom.getCandidatesByReactionId(reaction_ids=one_reaction_id)\n",
    "      ranked_candidates = recom.sortCandidates(candidate_list=candidates[one_reaction_id])[:CANDIDATE_NUM]\n",
    "      intersects = [val in ranked_candidates for val in true_vaules]\n",
    "     # determine if result is correct \n",
    "      result.append(any(intersects))\n",
    "  valid_result = [val for val in result if val is not None]\n",
    "  k_precision_3.append(np.sum(valid_result) / len(valid_result))"
   ]
  },
  {
   "cell_type": "code",
   "execution_count": 34,
   "id": "bcd1d58a",
   "metadata": {},
   "outputs": [
    {
     "name": "stdout",
     "output_type": "stream",
     "text": [
      "We are at 0\n",
      "We are at 10\n",
      "We are at 20\n",
      "We are at 30\n",
      "We are at 40\n",
      "We are at 50\n",
      "We are at 60\n",
      "We are at 70\n",
      "We are at 80\n",
      "We are at 90\n",
      "We are at 100\n"
     ]
    }
   ],
   "source": [
    "CANDIDATE_NUM = 20\n",
    "k_precision_20 = []\n",
    "for idx, one_fpath in enumerate(bigg_fpaths):\n",
    "  if idx % 10 == 0:\n",
    "    print(\"We are at\", idx)\n",
    "  recom = recommender.ReactionRecommender(model_file=one_fpath)\n",
    "  anot_container = ac.AnnotationContainer(model_file=one_fpath)\n",
    "  all_reaction_ids = list(recom.reac_dict.keys())\n",
    "  one_reaction_id = all_reaction_ids[0]\n",
    "  result = []\n",
    "  for one_reaction_id in all_reaction_ids:\n",
    "    true_vaules = getTrueReactionAnnotation(container=anot_container,\n",
    "                                            reaction_id=one_reaction_id,\n",
    "                                            qualifier_type='rhea')\n",
    "    if true_vaules is None:\n",
    "      result.append(None)\n",
    "    else:\n",
    "      candidates = recom.getCandidatesByReactionId(reaction_ids=one_reaction_id)\n",
    "      ranked_candidates = recom.sortCandidates(candidate_list=candidates[one_reaction_id])[:CANDIDATE_NUM]\n",
    "      intersects = [val in ranked_candidates for val in true_vaules]\n",
    "     # determine if result is correct \n",
    "      result.append(any(intersects))\n",
    "  valid_result = [val for val in result if val is not None]\n",
    "  k_precision_20.append(np.sum(valid_result) / len(valid_result))"
   ]
  },
  {
   "cell_type": "code",
   "execution_count": 24,
   "id": "efbdffee",
   "metadata": {},
   "outputs": [
    {
     "name": "stdout",
     "output_type": "stream",
     "text": [
      "We are at 0\n",
      "We are at 10\n",
      "We are at 20\n",
      "We are at 30\n",
      "We are at 40\n",
      "We are at 50\n",
      "We are at 60\n",
      "We are at 70\n",
      "We are at 80\n",
      "We are at 90\n",
      "We are at 100\n"
     ]
    }
   ],
   "source": [
    "CANDIDATE_NUM = 100\n",
    "k_precision_100 = []\n",
    "for idx, one_fpath in enumerate(bigg_fpaths):\n",
    "  if idx % 10 == 0:\n",
    "    print(\"We are at\", idx)\n",
    "  recom = recommender.ReactionRecommender(model_file=one_fpath)\n",
    "  anot_container = ac.AnnotationContainer(model_file=one_fpath)\n",
    "  all_reaction_ids = list(recom.reac_dict.keys())\n",
    "  one_reaction_id = all_reaction_ids[0]\n",
    "  result = []\n",
    "  for one_reaction_id in all_reaction_ids:\n",
    "    true_vaules = getTrueReactionAnnotation(container=anot_container,\n",
    "                                            reaction_id=one_reaction_id,\n",
    "                                            qualifier_type='rhea')\n",
    "    if true_vaules is None:\n",
    "      result.append(None)\n",
    "    else:\n",
    "      candidates = recom.getCandidatesByReactionId(reaction_ids=one_reaction_id)\n",
    "      ranked_candidates = recom.sortCandidates(candidate_list=candidates[one_reaction_id])[:CANDIDATE_NUM]\n",
    "      intersects = [val in ranked_candidates for val in true_vaules]\n",
    "     # determine if result is correct \n",
    "      result.append(any(intersects))\n",
    "  valid_result = [val for val in result if val is not None]\n",
    "  k_precision_100.append(np.sum(valid_result) / len(valid_result))"
   ]
  },
  {
   "cell_type": "code",
   "execution_count": 18,
   "id": "942599cf",
   "metadata": {},
   "outputs": [
    {
     "data": {
      "text/plain": [
       "(array([36., 33.,  4.,  5.,  8.,  8.,  2.,  2.,  8.,  2.]),\n",
       " array([0.7118863 , 0.72400009, 0.73611387, 0.74822765, 0.76034143,\n",
       "        0.77245521, 0.78456899, 0.79668277, 0.80879656, 0.82091034,\n",
       "        0.83302412]),\n",
       " <BarContainer object of 10 artists>)"
      ]
     },
     "execution_count": 18,
     "metadata": {},
     "output_type": "execute_result"
    },
    {
     "data": {
      "image/png": "[encoded data removed]",
      "text/plain": [
       "<Figure size 432x288 with 1 Axes>"
      ]
     },
     "metadata": {
      "needs_background": "light"
     },
     "output_type": "display_data"
    }
   ],
   "source": [
    "plt.hist(k_precision_1)"
   ]
  },
  {
   "cell_type": "code",
   "execution_count": 19,
   "id": "3a670ea5",
   "metadata": {},
   "outputs": [
    {
     "data": {
      "text/plain": [
       "(array([ 1., 18., 53.,  9.,  3.,  3.,  2.,  4., 12.,  3.]),\n",
       " array([0.93096234, 0.93693847, 0.94291459, 0.94889071, 0.95486683,\n",
       "        0.96084295, 0.96681907, 0.9727952 , 0.97877132, 0.98474744,\n",
       "        0.99072356]),\n",
       " <BarContainer object of 10 artists>)"
      ]
     },
     "execution_count": 19,
     "metadata": {},
     "output_type": "execute_result"
    },
    {
     "data": {
      "image/png": "[encoded data removed]",
      "text/plain": [
       "<Figure size 432x288 with 1 Axes>"
      ]
     },
     "metadata": {
      "needs_background": "light"
     },
     "output_type": "display_data"
    }
   ],
   "source": [
    "plt.hist(k_precision_10)"
   ]
  },
  {
   "cell_type": "code",
   "execution_count": 15,
   "id": "cf9545e1",
   "metadata": {},
   "outputs": [
    {
     "data": {
      "text/plain": [
       "(array([33., 39.,  4.,  5.,  4.,  5.,  4.,  6.,  7.,  1.]),\n",
       " array([0.92042186, 0.92708097, 0.93374009, 0.9403992 , 0.94705831,\n",
       "        0.95371742, 0.96037654, 0.96703565, 0.97369476, 0.98035387,\n",
       "        0.98701299]),\n",
       " <BarContainer object of 10 artists>)"
      ]
     },
     "execution_count": 15,
     "metadata": {},
     "output_type": "execute_result"
    },
    {
     "data": {
      "image/png": "[encoded data removed]",
      "text/plain": [
       "<Figure size 432x288 with 1 Axes>"
      ]
     },
     "metadata": {
      "needs_background": "light"
     },
     "output_type": "display_data"
    }
   ],
   "source": [
    "#k_precision_5 = k_precision\n",
    "plt.hist(k_precision_5)"
   ]
  },
  {
   "cell_type": "code",
   "execution_count": 10,
   "id": "7f545f36",
   "metadata": {},
   "outputs": [
    {
     "data": {
      "text/plain": [
       "0.5"
      ]
     },
     "execution_count": 10,
     "metadata": {},
     "output_type": "execute_result"
    }
   ],
   "source": [
    "one_l = [False, True]\n",
    "np.sum(one_l) / len(one_l)"
   ]
  },
  {
   "cell_type": "code",
   "execution_count": 59,
   "id": "49372fe2",
   "metadata": {},
   "outputs": [
    {
     "data": {
      "text/html": [
       "<div>\n",
       "<style scoped>\n",
       "    .dataframe tbody tr th:only-of-type {\n",
       "        vertical-align: middle;\n",
       "    }\n",
       "\n",
       "    .dataframe tbody tr th {\n",
       "        vertical-align: top;\n",
       "    }\n",
       "\n",
       "    .dataframe thead th {\n",
       "        text-align: right;\n",
       "    }\n",
       "</style>\n",
       "<table border=\"1\" class=\"dataframe\">\n",
       "  <thead>\n",
       "    <tr style=\"text-align: right;\">\n",
       "      <th></th>\n",
       "      <th>precision_1</th>\n",
       "      <th>precision_3</th>\n",
       "      <th>precision_5</th>\n",
       "      <th>precision_10</th>\n",
       "      <th>precision_20</th>\n",
       "      <th>precision_30</th>\n",
       "      <th>precision_50</th>\n",
       "    </tr>\n",
       "  </thead>\n",
       "  <tbody>\n",
       "    <tr>\n",
       "      <th>0</th>\n",
       "      <td>0.733498</td>\n",
       "      <td>0.922442</td>\n",
       "      <td>0.958746</td>\n",
       "      <td>0.974422</td>\n",
       "      <td>0.982673</td>\n",
       "      <td>0.982673</td>\n",
       "      <td>0.982673</td>\n",
       "    </tr>\n",
       "    <tr>\n",
       "      <th>1</th>\n",
       "      <td>0.730250</td>\n",
       "      <td>0.903661</td>\n",
       "      <td>0.921965</td>\n",
       "      <td>0.941233</td>\n",
       "      <td>0.949904</td>\n",
       "      <td>0.949904</td>\n",
       "      <td>0.949904</td>\n",
       "    </tr>\n",
       "    <tr>\n",
       "      <th>2</th>\n",
       "      <td>0.780612</td>\n",
       "      <td>0.948980</td>\n",
       "      <td>0.969388</td>\n",
       "      <td>0.984694</td>\n",
       "      <td>0.989796</td>\n",
       "      <td>0.989796</td>\n",
       "      <td>0.989796</td>\n",
       "    </tr>\n",
       "    <tr>\n",
       "      <th>3</th>\n",
       "      <td>0.744681</td>\n",
       "      <td>0.918594</td>\n",
       "      <td>0.937095</td>\n",
       "      <td>0.950971</td>\n",
       "      <td>0.958372</td>\n",
       "      <td>0.958372</td>\n",
       "      <td>0.958372</td>\n",
       "    </tr>\n",
       "    <tr>\n",
       "      <th>4</th>\n",
       "      <td>0.720539</td>\n",
       "      <td>0.901515</td>\n",
       "      <td>0.925926</td>\n",
       "      <td>0.943603</td>\n",
       "      <td>0.952020</td>\n",
       "      <td>0.952020</td>\n",
       "      <td>0.952020</td>\n",
       "    </tr>\n",
       "    <tr>\n",
       "      <th>...</th>\n",
       "      <td>...</td>\n",
       "      <td>...</td>\n",
       "      <td>...</td>\n",
       "      <td>...</td>\n",
       "      <td>...</td>\n",
       "      <td>...</td>\n",
       "      <td>...</td>\n",
       "    </tr>\n",
       "    <tr>\n",
       "      <th>103</th>\n",
       "      <td>0.724138</td>\n",
       "      <td>0.904121</td>\n",
       "      <td>0.926829</td>\n",
       "      <td>0.943650</td>\n",
       "      <td>0.952061</td>\n",
       "      <td>0.952061</td>\n",
       "      <td>0.952061</td>\n",
       "    </tr>\n",
       "    <tr>\n",
       "      <th>104</th>\n",
       "      <td>0.725539</td>\n",
       "      <td>0.907960</td>\n",
       "      <td>0.928690</td>\n",
       "      <td>0.944444</td>\n",
       "      <td>0.951907</td>\n",
       "      <td>0.951907</td>\n",
       "      <td>0.951907</td>\n",
       "    </tr>\n",
       "    <tr>\n",
       "      <th>105</th>\n",
       "      <td>0.724719</td>\n",
       "      <td>0.899813</td>\n",
       "      <td>0.921348</td>\n",
       "      <td>0.940075</td>\n",
       "      <td>0.949438</td>\n",
       "      <td>0.949438</td>\n",
       "      <td>0.949438</td>\n",
       "    </tr>\n",
       "    <tr>\n",
       "      <th>106</th>\n",
       "      <td>0.721298</td>\n",
       "      <td>0.904326</td>\n",
       "      <td>0.927621</td>\n",
       "      <td>0.944260</td>\n",
       "      <td>0.951747</td>\n",
       "      <td>0.951747</td>\n",
       "      <td>0.951747</td>\n",
       "    </tr>\n",
       "    <tr>\n",
       "      <th>107</th>\n",
       "      <td>0.721162</td>\n",
       "      <td>0.903734</td>\n",
       "      <td>0.926971</td>\n",
       "      <td>0.943568</td>\n",
       "      <td>0.951867</td>\n",
       "      <td>0.951867</td>\n",
       "      <td>0.951867</td>\n",
       "    </tr>\n",
       "  </tbody>\n",
       "</table>\n",
       "<p>108 rows × 7 columns</p>\n",
       "</div>"
      ],
      "text/plain": [
       "     precision_1  precision_3  precision_5  precision_10  precision_20  \\\n",
       "0       0.733498     0.922442     0.958746      0.974422      0.982673   \n",
       "1       0.730250     0.903661     0.921965      0.941233      0.949904   \n",
       "2       0.780612     0.948980     0.969388      0.984694      0.989796   \n",
       "3       0.744681     0.918594     0.937095      0.950971      0.958372   \n",
       "4       0.720539     0.901515     0.925926      0.943603      0.952020   \n",
       "..           ...          ...          ...           ...           ...   \n",
       "103     0.724138     0.904121     0.926829      0.943650      0.952061   \n",
       "104     0.725539     0.907960     0.928690      0.944444      0.951907   \n",
       "105     0.724719     0.899813     0.921348      0.940075      0.949438   \n",
       "106     0.721298     0.904326     0.927621      0.944260      0.951747   \n",
       "107     0.721162     0.903734     0.926971      0.943568      0.951867   \n",
       "\n",
       "     precision_30  precision_50  \n",
       "0        0.982673      0.982673  \n",
       "1        0.949904      0.949904  \n",
       "2        0.989796      0.989796  \n",
       "3        0.958372      0.958372  \n",
       "4        0.952020      0.952020  \n",
       "..            ...           ...  \n",
       "103      0.952061      0.952061  \n",
       "104      0.951907      0.951907  \n",
       "105      0.949438      0.949438  \n",
       "106      0.951747      0.951747  \n",
       "107      0.951867      0.951867  \n",
       "\n",
       "[108 rows x 7 columns]"
      ]
     },
     "execution_count": 59,
     "metadata": {},
     "output_type": "execute_result"
    }
   ],
   "source": [
    "res_df = pd.DataFrame(zip(k_precision_1, k_precision_3, k_precision_5, k_precision_10, k_precision_20, k_precision_30, k_precision_50),\n",
    "                     columns=['precision_1', 'precision_3', 'precision_5', 'precision_10', 'precision_20', 'precision_30', 'precision_50'])\n",
    "res_df"
   ]
  },
  {
   "cell_type": "code",
   "execution_count": 60,
   "id": "7cf473d9",
   "metadata": {},
   "outputs": [],
   "source": [
    "res_df.to_csv('precision_k.csv')"
   ]
  },
  {
   "cell_type": "code",
   "execution_count": 32,
   "id": "9262a7e4",
   "metadata": {},
   "outputs": [
    {
     "data": {
      "text/plain": [
       "1.5529545092765833"
      ]
     },
     "execution_count": 32,
     "metadata": {},
     "output_type": "execute_result"
    }
   ],
   "source": [
    "np.sum(res_df['precision_10']  - res_df['precision_5'])"
   ]
  },
  {
   "cell_type": "code",
   "execution_count": 40,
   "id": "acfd61dc",
   "metadata": {},
   "outputs": [
    {
     "data": {
      "text/plain": [
       "(array([ 7.,  0., 26., 28.,  9.,  2.,  2.,  2.,  0.,  2.,  1.,  2.,  2.,\n",
       "         2.,  0.,  2.,  2.,  1.,  0.,  1.,  3.,  2.,  4.,  0.,  6.,  0.,\n",
       "         1.,  0.,  0.,  1.]),\n",
       " array([0.92042186, 0.92264156, 0.92486127, 0.92708097, 0.92930068,\n",
       "        0.93152038, 0.93374009, 0.93595979, 0.93817949, 0.9403992 ,\n",
       "        0.9426189 , 0.94483861, 0.94705831, 0.94927802, 0.95149772,\n",
       "        0.95371742, 0.95593713, 0.95815683, 0.96037654, 0.96259624,\n",
       "        0.96481594, 0.96703565, 0.96925535, 0.97147506, 0.97369476,\n",
       "        0.97591447, 0.97813417, 0.98035387, 0.98257358, 0.98479328,\n",
       "        0.98701299]),\n",
       " <BarContainer object of 30 artists>)"
      ]
     },
     "execution_count": 40,
     "metadata": {},
     "output_type": "execute_result"
    },
    {
     "data": {
      "image/png": "[encoded data removed]",
      "text/plain": [
       "<Figure size 640x480 with 1 Axes>"
      ]
     },
     "metadata": {
      "needs_background": "light"
     },
     "output_type": "display_data"
    }
   ],
   "source": [
    "plt.figure(figsize=(8, 6), dpi=80)\n",
    "plt.hist(k_precision_5, bins=30)"
   ]
  },
  {
   "cell_type": "code",
   "execution_count": 100,
   "id": "436040f8",
   "metadata": {},
   "outputs": [
    {
     "data": {
      "image/png": "[encoded data removed]",
      "text/plain": [
       "<Figure size 800x640 with 1 Axes>"
      ]
     },
     "metadata": {
      "needs_background": "light"
     },
     "output_type": "display_data"
    }
   ],
   "source": [
    "plt.figure(figsize=(10, 8), dpi=80)\n",
    "data1 = res_df['precision_1']\n",
    "data2 = res_df['precision_3']\n",
    "data3 = res_df['precision_10']\n",
    "plt.hist(data1, bins=20, alpha=0.5, label=\"1-precision\")\n",
    "plt.hist(data2, bins=20, alpha=0.5, label=\"3-precision\")\n",
    "plt.hist(data3, bins=20, alpha=0.5, label=\"10-precision\")\n",
    "# plt.xlabel(\"Precision\", size=14)\n",
    "# plt.ylabel(\"Frequency\", size=14)\n",
    "plt.legend(loc='best', prop={'size': 14})\n",
    "plt.savefig(\"hist_precision_1_3_10.png\")"
   ]
  },
  {
   "cell_type": "code",
   "execution_count": 61,
   "id": "c2530549",
   "metadata": {},
   "outputs": [
    {
     "data": {
      "text/plain": [
       "precision_1     0.744844\n",
       "precision_3     0.914381\n",
       "precision_5     0.937767\n",
       "precision_10    0.952146\n",
       "precision_20    0.959248\n",
       "precision_30    0.959248\n",
       "precision_50    0.959248\n",
       "dtype: float64"
      ]
     },
     "execution_count": 61,
     "metadata": {},
     "output_type": "execute_result"
    }
   ],
   "source": [
    "res_df.mean(axis=0)"
   ]
  },
  {
   "cell_type": "code",
   "execution_count": 69,
   "id": "708e52a9",
   "metadata": {},
   "outputs": [],
   "source": [
    "precision_mean = res_df.mean(axis=0)\n",
    "x_vals = [1, 3, 5, 10, 20, 30, 50]"
   ]
  },
  {
   "cell_type": "code",
   "execution_count": 70,
   "id": "aa6dd32e",
   "metadata": {},
   "outputs": [
    {
     "data": {
      "text/plain": [
       "[<matplotlib.lines.Line2D at 0x7fcab8759220>]"
      ]
     },
     "execution_count": 70,
     "metadata": {},
     "output_type": "execute_result"
    },
    {
     "data": {
      "image/png": "[encoded data removed]",
      "text/plain": [
       "<Figure size 800x640 with 1 Axes>"
      ]
     },
     "metadata": {
      "needs_background": "light"
     },
     "output_type": "display_data"
    }
   ],
   "source": [
    "plt.figure(figsize=(10, 8), dpi=80)\n",
    "plt.xticks(x_vals)\n",
    "plt.plot(x_vals, precision_mean, \"-o\")"
   ]
  },
  {
   "cell_type": "code",
   "execution_count": null,
   "id": "cb592113",
   "metadata": {},
   "outputs": [],
   "source": [
    "x = [1,2,3,4,5]\n",
    "y = [2,1,3,6,7]\n",
    "\n",
    "plt.plot(x, y, \"-o\")\n",
    "x0 = [2]\n",
    "y0 = [1]\n",
    "plt.plot(x0, y0, \"s\")\n",
    "\n",
    "plt.show()"
   ]
  }
 ],
 "metadata": {
  "kernelspec": {
   "display_name": "pyo",
   "language": "python",
   "name": "pyo"
  },
  "language_info": {
   "codemirror_mode": {
    "name": "ipython",
    "version": 3
   },
   "file_extension": ".py",
   "mimetype": "text/x-python",
   "name": "python",
   "nbconvert_exporter": "python",
   "pygments_lexer": "ipython3",
   "version": "3.8.8"
  }
 },
 "nbformat": 4,
 "nbformat_minor": 5
}
