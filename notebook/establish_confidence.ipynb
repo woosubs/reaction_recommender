{
 "cells": [
  {
   "cell_type": "code",
   "execution_count": 1,
   "id": "12cbdee2",
   "metadata": {},
   "outputs": [
    {
     "name": "stdout",
     "output_type": "stream",
     "text": [
      "1000\n",
      "108\n"
     ]
    }
   ],
   "source": [
    "# establish_confidence.ipynd\n",
    "# trying to establish the level of confidence score, \n",
    "# and rank elements based on it. (prev. ranking only depended on # of overlapping elements.\n",
    "# need to include non-overlapping elements as well)\n",
    "import collections\n",
    "import itertools\n",
    "import libsbml\n",
    "import networkx as nx\n",
    "import numpy as np\n",
    "import os\n",
    "import pandas as pd\n",
    "import pickle\n",
    "import random\n",
    "import re\n",
    "import requests\n",
    "\n",
    "import matplotlib.pyplot as plt\n",
    "%matplotlib inline  \n",
    "\n",
    "script_path = \"/Users/woosubs/Desktop/AutomateAnnotation/reaction_recommender/reaction_recommender/\"\n",
    "os.sys.path.append(script_path)\n",
    "\n",
    "# import get_annotation as ga\n",
    "from reaction_recommender import annotation_container as ac\n",
    "from reaction_recommender import reaction_recommender as recommender\n",
    "\n",
    "BASE_DIR = '/Users/woosubs/Desktop/AutomateAnnotation/'\n",
    "BIOMD_12 = 'BIOMD0000000012.xml'\n",
    "DATA_DIR = os.path.join(BASE_DIR, \"DATA\")\n",
    "RHEA_DIR = os.path.join(DATA_DIR, \"rhea\")\n",
    "# BioModel files\n",
    "BIOMODEL_DIR = os.path.join(DATA_DIR, \"biomodels/curated_biomodels_31mar2021\")\n",
    "biomd_files = [f for f in os.listdir(BIOMODEL_DIR) if f[-4:] == \".xml\"]\n",
    "print(len(biomd_files))\n",
    "biomd_fpaths = [os.path.join(BIOMODEL_DIR, one_file) for one_file in biomd_files]\n",
    "\n",
    "# BiGG files\n",
    "BIGG_DIR = '/Users/woosubs/Desktop/AutomateAnnotation/DATA/bigg'\n",
    "ecoli_fpath = os.path.join(BIGG_DIR, \"e_coli_core.xml\")\n",
    "bigg_files = [f for f in os.listdir(BIGG_DIR) if f[-4:]=='.xml']\n",
    "bigg_fpaths = [os.path.join(BIGG_DIR, f) for f in bigg_files]\n",
    "print(len(bigg_files))\n",
    "one_fpath = bigg_fpaths[0]"
   ]
  },
  {
   "cell_type": "code",
   "execution_count": 2,
   "id": "0c02193f",
   "metadata": {},
   "outputs": [],
   "source": [
    "# Nov 14, 2021: using a shortened version, meaning H and D are removed\n",
    "with open(os.path.join(DATA_DIR, 'all_shortened_chebi_to_formula_19nov2021.pkl'), 'rb') as f:\n",
    "  ref_shortened_chebi_to_formula = pickle.load(f)\n",
    "# below is full version\n",
    "with open(os.path.join(DATA_DIR, 'all_possible_chebi_to_formula_12nov2021.pkl'), 'rb') as f:\n",
    "  ref_full_chebi_to_formula = pickle.load(f)\n",
    "# map secondary id to primary id\n",
    "with open(os.path.join(DATA_DIR, 'chebi_second2prime_8nov2021.pickle'), 'rb') as f:\n",
    "  ref_second2prime_dict = pickle.load(f)\n",
    "# RHEA All Ids to Bi Id (KEGG Mappable)\n",
    "with open(os.path.join(RHEA_DIR, 'rhea_all2bi.pkl'), 'rb') as f:\n",
    "  ref_rhea2bi = pickle.load(f)\n",
    "with open(os.path.join(RHEA_DIR, 'rhea_all2master.pkl'), 'rb') as f:\n",
    "  ref_rhea2master = pickle.load(f)\n",
    "with open(os.path.join(RHEA_DIR, 'rhea2chebi_reference.pkl'), 'rb') as f:\n",
    "  ref_rhea2chebi = pickle.load(f)"
   ]
  },
  {
   "cell_type": "code",
   "execution_count": 59,
   "id": "9a524324",
   "metadata": {},
   "outputs": [],
   "source": [
    "anot_container = ac.AnnotationContainer(model_file=os.path.join(BIGG_DIR, ecoli_fpath))\n",
    "reader = libsbml.SBMLReader()\n",
    "document = reader.readSBML(ecoli_fpath)\n",
    "model = document.getModel()"
   ]
  },
  {
   "cell_type": "code",
   "execution_count": 42,
   "id": "2f8064b9",
   "metadata": {},
   "outputs": [
    {
     "data": {
      "text/html": [
       "<div>\n",
       "<style scoped>\n",
       "    .dataframe tbody tr th:only-of-type {\n",
       "        vertical-align: middle;\n",
       "    }\n",
       "\n",
       "    .dataframe tbody tr th {\n",
       "        vertical-align: top;\n",
       "    }\n",
       "\n",
       "    .dataframe thead th {\n",
       "        text-align: right;\n",
       "    }\n",
       "</style>\n",
       "<table border=\"1\" class=\"dataframe\">\n",
       "  <thead>\n",
       "    <tr style=\"text-align: right;\">\n",
       "      <th></th>\n",
       "      <th>equation</th>\n",
       "    </tr>\n",
       "    <tr>\n",
       "      <th>id</th>\n",
       "      <th></th>\n",
       "    </tr>\n",
       "  </thead>\n",
       "  <tbody>\n",
       "    <tr>\n",
       "      <th>RHEA:10000</th>\n",
       "      <td>H2O + pentanamide = NH4(+) + pentanoate</td>\n",
       "    </tr>\n",
       "    <tr>\n",
       "      <th>RHEA:10004</th>\n",
       "      <td>benzyl isothiocyanate = benzyl thiocyanate</td>\n",
       "    </tr>\n",
       "    <tr>\n",
       "      <th>RHEA:10008</th>\n",
       "      <td>[protein]-dithiol + a hydroperoxide = [protein...</td>\n",
       "    </tr>\n",
       "    <tr>\n",
       "      <th>RHEA:10012</th>\n",
       "      <td>(R)-6-hydroxynicotine + H2O + O2 = 6-hydroxyps...</td>\n",
       "    </tr>\n",
       "    <tr>\n",
       "      <th>RHEA:10016</th>\n",
       "      <td>H2O + O-sinapoylcholine = choline + E-sinapate...</td>\n",
       "    </tr>\n",
       "  </tbody>\n",
       "</table>\n",
       "</div>"
      ],
      "text/plain": [
       "                                                     equation\n",
       "id                                                           \n",
       "RHEA:10000            H2O + pentanamide = NH4(+) + pentanoate\n",
       "RHEA:10004         benzyl isothiocyanate = benzyl thiocyanate\n",
       "RHEA:10008  [protein]-dithiol + a hydroperoxide = [protein...\n",
       "RHEA:10012  (R)-6-hydroxynicotine + H2O + O2 = 6-hydroxyps...\n",
       "RHEA:10016  H2O + O-sinapoylcholine = choline + E-sinapate..."
      ]
     },
     "execution_count": 42,
     "metadata": {},
     "output_type": "execute_result"
    }
   ],
   "source": [
    "df = pd.read_csv(os.path.join(RHEA_DIR, 'rhea_string_equation.tsv'), sep='\\t', index_col=0)\n",
    "df.head()"
   ]
  },
  {
   "cell_type": "code",
   "execution_count": 5,
   "id": "40a51505",
   "metadata": {},
   "outputs": [],
   "source": [
    "recom = recommender.ReactionRecommender(model_file=os.path.join(BIGG_DIR, ecoli_fpath))"
   ]
  },
  {
   "cell_type": "code",
   "execution_count": 12,
   "id": "1b34b0ad",
   "metadata": {},
   "outputs": [
    {
     "name": "stdout",
     "output_type": "stream",
     "text": [
      "['R_PFK', 'R_PFL', 'R_PGI', 'R_PGK', 'R_PGL', 'R_ACALD', 'R_AKGt2r', 'R_PGM', 'R_PIt2r', 'R_ALCD2x', 'R_ACALDt', 'R_ACKr', 'R_PPC', 'R_ACONTa', 'R_ACONTb', 'R_ATPM', 'R_PPCK', 'R_ACt2r', 'R_PPS', 'R_ADK1', 'R_AKGDH', 'R_ATPS4r', 'R_PTAr', 'R_PYK', 'R_BIOMASS_Ecoli_core_w_GAM', 'R_PYRt2', 'R_CO2t', 'R_RPE', 'R_CS', 'R_RPI', 'R_SUCCt2_2', 'R_CYTBD', 'R_D_LACt2', 'R_ENO', 'R_SUCCt3', 'R_ETOHt2r', 'R_SUCDi', 'R_SUCOAS', 'R_TALA', 'R_THD2', 'R_TKT1', 'R_TKT2', 'R_TPI', 'R_EX_ac_e', 'R_EX_acald_e', 'R_EX_akg_e', 'R_EX_co2_e', 'R_EX_etoh_e', 'R_EX_for_e', 'R_EX_fru_e', 'R_EX_fum_e', 'R_EX_glc__D_e', 'R_EX_gln__L_e', 'R_EX_glu__L_e', 'R_EX_h_e', 'R_EX_h2o_e', 'R_EX_lac__D_e', 'R_EX_mal__L_e', 'R_EX_nh4_e', 'R_EX_o2_e', 'R_EX_pi_e', 'R_EX_pyr_e', 'R_EX_succ_e', 'R_FBA', 'R_FBP', 'R_FORt2', 'R_FORt', 'R_FRD7', 'R_FRUpts2', 'R_FUM', 'R_FUMt2_2', 'R_G6PDH2r', 'R_GAPD', 'R_GLCpts', 'R_GLNS', 'R_GLNabc', 'R_GLUDy', 'R_GLUN', 'R_GLUSy', 'R_GLUt2r', 'R_GND', 'R_H2Ot', 'R_ICDHyr', 'R_ICL', 'R_LDH_D', 'R_MALS', 'R_MALt2_2', 'R_MDH', 'R_ME1', 'R_ME2', 'R_NADH16', 'R_NADTRHD', 'R_NH4t', 'R_O2t', 'R_PDH']\n"
     ]
    }
   ],
   "source": [
    "print(list(recom.reac_dict.keys()))"
   ]
  },
  {
   "cell_type": "code",
   "execution_count": 29,
   "id": "d0d4bec4",
   "metadata": {},
   "outputs": [],
   "source": [
    "# rid = ['R_PFK', 'R_PFL']\n",
    "# candidates = recom.getCandidatesByReactionId(reaction_ids=rid)\n",
    "candidates = recom.getCandidatesByReactionId()"
   ]
  },
  {
   "cell_type": "code",
   "execution_count": 14,
   "id": "b85edf26",
   "metadata": {},
   "outputs": [
    {
     "data": {
      "text/plain": [
       "['RHEA:12423', 'RHEA:13380', 'RHEA:14216', 'RHEA:15656', 'RHEA:16112']"
      ]
     },
     "execution_count": 14,
     "metadata": {},
     "output_type": "execute_result"
    }
   ],
   "source": [
    "recom.sortCandidates(['RHEA:12423', 'RHEA:13380', 'RHEA:14216', 'RHEA:15656', 'RHEA:16112'])"
   ]
  },
  {
   "cell_type": "code",
   "execution_count": 30,
   "id": "96d068ad",
   "metadata": {},
   "outputs": [
    {
     "data": {
      "text/plain": [
       "R_PFK        5\n",
       "R_PFL        4\n",
       "R_PGI        1\n",
       "R_PGK        4\n",
       "R_PGL        4\n",
       "            ..\n",
       "R_NADH16     3\n",
       "R_NADTRHD    2\n",
       "R_NH4t       1\n",
       "R_O2t        1\n",
       "R_PDH        5\n",
       "Length: 95, dtype: int64"
      ]
     },
     "execution_count": 30,
     "metadata": {},
     "output_type": "execute_result"
    }
   ],
   "source": [
    "recom.maxes"
   ]
  },
  {
   "cell_type": "code",
   "execution_count": 32,
   "id": "cf5aa68a",
   "metadata": {},
   "outputs": [
    {
     "data": {
      "text/html": [
       "<div>\n",
       "<style scoped>\n",
       "    .dataframe tbody tr th:only-of-type {\n",
       "        vertical-align: middle;\n",
       "    }\n",
       "\n",
       "    .dataframe tbody tr th {\n",
       "        vertical-align: top;\n",
       "    }\n",
       "\n",
       "    .dataframe thead th {\n",
       "        text-align: right;\n",
       "    }\n",
       "</style>\n",
       "<table border=\"1\" class=\"dataframe\">\n",
       "  <thead>\n",
       "    <tr style=\"text-align: right;\">\n",
       "      <th></th>\n",
       "      <th>R_PFK</th>\n",
       "      <th>R_PFL</th>\n",
       "      <th>R_PGI</th>\n",
       "      <th>R_PGK</th>\n",
       "      <th>R_PGL</th>\n",
       "    </tr>\n",
       "  </thead>\n",
       "  <tbody>\n",
       "    <tr>\n",
       "      <th>RHEA:10003</th>\n",
       "      <td>0</td>\n",
       "      <td>0</td>\n",
       "      <td>0</td>\n",
       "      <td>0</td>\n",
       "      <td>1</td>\n",
       "    </tr>\n",
       "    <tr>\n",
       "      <th>RHEA:10007</th>\n",
       "      <td>0</td>\n",
       "      <td>0</td>\n",
       "      <td>0</td>\n",
       "      <td>0</td>\n",
       "      <td>0</td>\n",
       "    </tr>\n",
       "    <tr>\n",
       "      <th>RHEA:10011</th>\n",
       "      <td>0</td>\n",
       "      <td>0</td>\n",
       "      <td>0</td>\n",
       "      <td>0</td>\n",
       "      <td>1</td>\n",
       "    </tr>\n",
       "    <tr>\n",
       "      <th>RHEA:10015</th>\n",
       "      <td>0</td>\n",
       "      <td>0</td>\n",
       "      <td>0</td>\n",
       "      <td>0</td>\n",
       "      <td>1</td>\n",
       "    </tr>\n",
       "    <tr>\n",
       "      <th>RHEA:10019</th>\n",
       "      <td>1</td>\n",
       "      <td>0</td>\n",
       "      <td>0</td>\n",
       "      <td>0</td>\n",
       "      <td>2</td>\n",
       "    </tr>\n",
       "  </tbody>\n",
       "</table>\n",
       "</div>"
      ],
      "text/plain": [
       "            R_PFK  R_PFL  R_PGI  R_PGK  R_PGL\n",
       "RHEA:10003      0      0      0      0      1\n",
       "RHEA:10007      0      0      0      0      0\n",
       "RHEA:10011      0      0      0      0      1\n",
       "RHEA:10015      0      0      0      0      1\n",
       "RHEA:10019      1      0      0      0      2"
      ]
     },
     "execution_count": 32,
     "metadata": {},
     "output_type": "execute_result"
    }
   ],
   "source": [
    "recom.multi_mat.iloc[:5, :5]"
   ]
  },
  {
   "cell_type": "code",
   "execution_count": 33,
   "id": "67249d30",
   "metadata": {},
   "outputs": [
    {
     "data": {
      "text/html": [
       "<div>\n",
       "<style scoped>\n",
       "    .dataframe tbody tr th:only-of-type {\n",
       "        vertical-align: middle;\n",
       "    }\n",
       "\n",
       "    .dataframe tbody tr th {\n",
       "        vertical-align: top;\n",
       "    }\n",
       "\n",
       "    .dataframe thead th {\n",
       "        text-align: right;\n",
       "    }\n",
       "</style>\n",
       "<table border=\"1\" class=\"dataframe\">\n",
       "  <thead>\n",
       "    <tr style=\"text-align: right;\">\n",
       "      <th></th>\n",
       "      <th>R_PFK</th>\n",
       "      <th>R_PFL</th>\n",
       "      <th>R_PGI</th>\n",
       "      <th>R_PGK</th>\n",
       "      <th>R_PGL</th>\n",
       "    </tr>\n",
       "  </thead>\n",
       "  <tbody>\n",
       "    <tr>\n",
       "      <th>C2N3</th>\n",
       "      <td>0</td>\n",
       "      <td>0</td>\n",
       "      <td>0</td>\n",
       "      <td>0</td>\n",
       "      <td>0</td>\n",
       "    </tr>\n",
       "    <tr>\n",
       "      <th>C21O11</th>\n",
       "      <td>0</td>\n",
       "      <td>0</td>\n",
       "      <td>0</td>\n",
       "      <td>0</td>\n",
       "      <td>0</td>\n",
       "    </tr>\n",
       "    <tr>\n",
       "      <th>C22O3</th>\n",
       "      <td>0</td>\n",
       "      <td>0</td>\n",
       "      <td>0</td>\n",
       "      <td>0</td>\n",
       "      <td>0</td>\n",
       "    </tr>\n",
       "    <tr>\n",
       "      <th>C13N3O2</th>\n",
       "      <td>0</td>\n",
       "      <td>0</td>\n",
       "      <td>0</td>\n",
       "      <td>0</td>\n",
       "      <td>0</td>\n",
       "    </tr>\n",
       "    <tr>\n",
       "      <th>C4N4O</th>\n",
       "      <td>0</td>\n",
       "      <td>0</td>\n",
       "      <td>0</td>\n",
       "      <td>0</td>\n",
       "      <td>0</td>\n",
       "    </tr>\n",
       "  </tbody>\n",
       "</table>\n",
       "</div>"
      ],
      "text/plain": [
       "         R_PFK  R_PFL  R_PGI  R_PGK  R_PGL\n",
       "C2N3         0      0      0      0      0\n",
       "C21O11       0      0      0      0      0\n",
       "C22O3        0      0      0      0      0\n",
       "C13N3O2      0      0      0      0      0\n",
       "C4N4O        0      0      0      0      0"
      ]
     },
     "execution_count": 33,
     "metadata": {},
     "output_type": "execute_result"
    }
   ],
   "source": [
    "recom.query_mat.iloc[:5, :5]"
   ]
  },
  {
   "cell_type": "code",
   "execution_count": 41,
   "id": "e4d8d825",
   "metadata": {},
   "outputs": [
    {
     "data": {
      "text/plain": [
       "array([ 5,  4,  1,  4,  4,  5,  2,  1,  2,  3,  1,  4,  6,  3,  3,  5,  5,\n",
       "        2,  7,  3,  5,  5,  4,  5, 19,  2,  1,  1,  6,  1,  2,  4,  2,  3,\n",
       "        2,  2,  2,  6,  4,  3,  3,  4,  1,  1,  1,  1,  1,  1,  1,  1,  1,\n",
       "        1,  1,  1,  1,  1,  1,  1,  1,  1,  1,  1,  1,  2,  4,  2,  1,  2,\n",
       "        4,  3,  2,  3,  5,  4,  7,  6,  6,  4,  5,  2,  4,  1,  4,  3,  3,\n",
       "        6,  2,  3,  4,  4,  3,  2,  1,  1,  5])"
      ]
     },
     "execution_count": 41,
     "metadata": {},
     "output_type": "execute_result"
    }
   ],
   "source": [
    "# number of existing elements in a given species set\n",
    "query_array = np.count_nonzero(recom.query_mat, axis=0)\n",
    "query_array"
   ]
  },
  {
   "cell_type": "code",
   "execution_count": 52,
   "id": "965efdc9",
   "metadata": {},
   "outputs": [
    {
     "data": {
      "text/plain": [
       "array([5, 4, 1, 4, 4, 5, 2, 1, 2, 3, 1, 4, 6, 3, 3, 5, 5, 2, 7, 3, 5, 5,\n",
       "       4, 5, 7, 2, 1, 1, 6, 1, 2, 3, 2, 3, 2, 2, 2, 6, 4, 3, 3, 4, 1, 1,\n",
       "       1, 1, 1, 1, 1, 1, 1, 1, 1, 1, 1, 1, 1, 1, 1, 1, 1, 1, 1, 2, 4, 2,\n",
       "       1, 2, 4, 3, 2, 3, 5, 4, 7, 6, 6, 4, 5, 2, 4, 1, 4, 3, 3, 6, 2, 3,\n",
       "       4, 4, 3, 2, 1, 1, 5])"
      ]
     },
     "execution_count": 52,
     "metadata": {},
     "output_type": "execute_result"
    }
   ],
   "source": [
    "# number of maximum matches\n",
    "match_array = np.array(recom.maxes)\n",
    "match_array"
   ]
  },
  {
   "cell_type": "code",
   "execution_count": 54,
   "id": "13e8cb0d",
   "metadata": {},
   "outputs": [
    {
     "data": {
      "text/plain": [
       "array([ 0,  0,  0,  0,  0,  0,  0,  0,  0,  0,  0,  0,  0,  0,  0,  0,  0,\n",
       "        0,  0,  0,  0,  0,  0,  0, 12,  0,  0,  0,  0,  0,  0,  1,  0,  0,\n",
       "        0,  0,  0,  0,  0,  0,  0,  0,  0,  0,  0,  0,  0,  0,  0,  0,  0,\n",
       "        0,  0,  0,  0,  0,  0,  0,  0,  0,  0,  0,  0,  0,  0,  0,  0,  0,\n",
       "        0,  0,  0,  0,  0,  0,  0,  0,  0,  0,  0,  0,  0,  0,  0,  0,  0,\n",
       "        0,  0,  0,  0,  0,  0,  0,  0,  0,  0])"
      ]
     },
     "execution_count": 54,
     "metadata": {},
     "output_type": "execute_result"
    }
   ],
   "source": [
    "given_array - match_array"
   ]
  },
  {
   "cell_type": "code",
   "execution_count": 55,
   "id": "88f5c0f4",
   "metadata": {},
   "outputs": [],
   "source": [
    "# get confidence\n",
    "# (num matches / num non_matches) * num_total_components (but normalized)"
   ]
  },
  {
   "cell_type": "markdown",
   "id": "f4a11630",
   "metadata": {},
   "source": [
    "### To normalize the number of total_components, first calculate from which total matching components the prediction gets almost 100% accurate."
   ]
  },
  {
   "cell_type": "code",
   "execution_count": 4,
   "id": "cd59c888",
   "metadata": {},
   "outputs": [],
   "source": [
    "def getTrueReactionAnnotation(container, reaction_id, qualifier_type='rhea'):\n",
    "  \"\"\"\n",
    "  Get the list of true reaction annotations, \n",
    "  so that we can check whether \n",
    "  the predicted id was correct. \n",
    "  returrn: list-str/None\n",
    "  \"\"\"\n",
    "  one_anot = container.model.getReaction(reaction_id).getAnnotationString()\n",
    "  rhea_nums = container.getQualifierFromString(input_str=one_anot, qualifier=qualifier_type)\n",
    "  if rhea_nums:\n",
    "    return['RHEA:'+val for val in rhea_nums]\n",
    "  else:\n",
    "    return None"
   ]
  },
  {
   "cell_type": "code",
   "execution_count": 95,
   "id": "92927f57",
   "metadata": {},
   "outputs": [],
   "source": [
    "CANDIDATE_NUM = 5\n",
    "# recom = recommender.ReactionRecommender(model_file=os.path.join(BIGG_DIR, ecoli_fpath))\n",
    "recom = recommender.ReactionRecommender(model_file=bigg_fpaths[0])\n",
    "anot_container = ac.AnnotationContainer(model_file=bigg_fpaths[0])\n",
    "candidates = recom.getCandidatesByReactionId()\n",
    "match_list = list(recom.maxes)\n",
    "#\n",
    "all_reaction_ids = list(recom.reac_dict.keys())\n",
    "result = []\n",
    "max_matches = []\n",
    "recorded_reactions = []\n",
    "for idx, one_reaction_id in enumerate(all_reaction_ids):\n",
    "  true_vaules = getTrueReactionAnnotation(container=anot_container,\n",
    "                                          reaction_id=one_reaction_id,\n",
    "                                          qualifier_type='rhea')\n",
    "  if true_vaules is None:\n",
    "    # no need to collect None\n",
    "    continue\n",
    "#     result.append(None)\n",
    "  else:\n",
    "    # candidates = recom.getCandidatesByReactionId(reaction_ids=one_reaction_id)\n",
    "    recorded_reactions.append(one_reaction_id)\n",
    "    ranked_candidates = recom.sortCandidates(candidate_list=candidates[one_reaction_id])[:CANDIDATE_NUM]\n",
    "    intersects = [val in ranked_candidates for val in true_vaules]\n",
    "    # determine if result is correct\n",
    "    result.append(any(intersects))\n",
    "    max_matches.append(match_list[idx])"
   ]
  },
  {
   "cell_type": "code",
   "execution_count": 96,
   "id": "07091087",
   "metadata": {},
   "outputs": [],
   "source": [
    "true_matches5 = [max_matches[idx] for idx in range(len(result)) if result[idx]==True]\n",
    "false_matches5 = [max_matches[idx] for idx in range(len(result)) if result[idx]==False]"
   ]
  },
  {
   "cell_type": "code",
   "execution_count": 101,
   "id": "b139aec1",
   "metadata": {},
   "outputs": [
    {
     "data": {
      "text/plain": [
       "1212"
      ]
     },
     "execution_count": 101,
     "metadata": {},
     "output_type": "execute_result"
    }
   ],
   "source": [
    "len(recorded_reactions)"
   ]
  },
  {
   "cell_type": "code",
   "execution_count": 102,
   "id": "60937662",
   "metadata": {},
   "outputs": [
    {
     "data": {
      "text/plain": [
       "1212"
      ]
     },
     "execution_count": 102,
     "metadata": {},
     "output_type": "execute_result"
    }
   ],
   "source": [
    "len(false_matches5) + len(true_matches5)"
   ]
  },
  {
   "cell_type": "code",
   "execution_count": 104,
   "id": "fc55d9fe",
   "metadata": {},
   "outputs": [
    {
     "data": {
      "text/plain": [
       "50"
      ]
     },
     "execution_count": 104,
     "metadata": {},
     "output_type": "execute_result"
    }
   ],
   "source": [
    "len(false_matches5)"
   ]
  },
  {
   "cell_type": "code",
   "execution_count": null,
   "id": "0cbfd093",
   "metadata": {},
   "outputs": [],
   "source": [
    "# establish some kind of data frame to establish P(X=True). i.e., confidence"
   ]
  },
  {
   "cell_type": "code",
   "execution_count": 100,
   "id": "efe601f8",
   "metadata": {},
   "outputs": [],
   "source": []
  },
  {
   "cell_type": "code",
   "execution_count": 17,
   "id": "1b43f71b",
   "metadata": {},
   "outputs": [
    {
     "data": {
      "text/plain": [
       "<matplotlib.legend.Legend at 0x7ffc99217cd0>"
      ]
     },
     "execution_count": 17,
     "metadata": {},
     "output_type": "execute_result"
    },
    {
     "data": {
      "image/png": "[encoded data removed]",
      "text/plain": [
       "<Figure size 800x640 with 1 Axes>"
      ]
     },
     "metadata": {
      "needs_background": "light"
     },
     "output_type": "display_data"
    }
   ],
   "source": [
    "plt.figure(figsize=(10, 8), dpi=80)\n",
    "data1 = true_matches5\n",
    "data2 = false_matches5\n",
    "plt.hist(data1, bins=20, alpha=0.5, label=\"trues\")\n",
    "plt.hist(data2, bins=20, alpha=0.5, label=\"falses\")\n",
    "# plt.xlabel(\"Precision\", size=14)\n",
    "# plt.ylabel(\"Frequency\", size=14)\n",
    "plt.legend(loc='best', prop={'size': 14})"
   ]
  },
  {
   "cell_type": "code",
   "execution_count": 14,
   "id": "7bc834d0",
   "metadata": {},
   "outputs": [
    {
     "data": {
      "text/plain": [
       "<matplotlib.legend.Legend at 0x7ffcd3fb1b80>"
      ]
     },
     "execution_count": 14,
     "metadata": {},
     "output_type": "execute_result"
    },
    {
     "data": {
      "image/png": "[encoded data removed]",
      "text/plain": [
       "<Figure size 800x640 with 1 Axes>"
      ]
     },
     "metadata": {
      "needs_background": "light"
     },
     "output_type": "display_data"
    }
   ],
   "source": [
    "plt.figure(figsize=(10, 8), dpi=80)\n",
    "data1 = true_matches1\n",
    "data2 = false_matches1\n",
    "plt.hist(data1, bins=20, alpha=0.5, label=\"trues\")\n",
    "plt.hist(data2, bins=20, alpha=0.5, label=\"falses\")\n",
    "# plt.xlabel(\"Precision\", size=14)\n",
    "# plt.ylabel(\"Frequency\", size=14)\n",
    "plt.legend(loc='best', prop={'size': 14})"
   ]
  },
  {
   "cell_type": "code",
   "execution_count": 27,
   "id": "69fb2afb",
   "metadata": {},
   "outputs": [],
   "source": [
    "reader = libsbml.SBMLReader()\n",
    "document = reader.readSBML(bigg_fpaths[0])\n",
    "model = document.getModel()"
   ]
  },
  {
   "cell_type": "code",
   "execution_count": 28,
   "id": "fe678fc0",
   "metadata": {},
   "outputs": [],
   "source": [
    "num_reacts = []\n",
    "num_prods = []\n",
    "for one_rid in recorded_reactions:\n",
    "  reaction = model.getReaction(one_rid)\n",
    "  num_reacts.append(reaction.getNumReactants())\n",
    "  num_prods.append(reaction.getNumProducts())"
   ]
  },
  {
   "cell_type": "code",
   "execution_count": 105,
   "id": "94d55ab4",
   "metadata": {},
   "outputs": [],
   "source": [
    "# pred_df = pd.DataFrame(zip(result, max_matches, num_reacts, num_prods),\n",
    "#                   columns =[\"Y\", \"max_matches\", \"num_reacts\", \"num_prods\"],\n",
    "#                  index=recorded_reactions)"
   ]
  },
  {
   "cell_type": "code",
   "execution_count": 117,
   "id": "6ac7d275",
   "metadata": {},
   "outputs": [
    {
     "data": {
      "text/html": [
       "<div>\n",
       "<style scoped>\n",
       "    .dataframe tbody tr th:only-of-type {\n",
       "        vertical-align: middle;\n",
       "    }\n",
       "\n",
       "    .dataframe tbody tr th {\n",
       "        vertical-align: top;\n",
       "    }\n",
       "\n",
       "    .dataframe thead th {\n",
       "        text-align: right;\n",
       "    }\n",
       "</style>\n",
       "<table border=\"1\" class=\"dataframe\">\n",
       "  <thead>\n",
       "    <tr style=\"text-align: right;\">\n",
       "      <th></th>\n",
       "      <th>Y</th>\n",
       "      <th>max_matches</th>\n",
       "      <th>num_reacts</th>\n",
       "      <th>num_prods</th>\n",
       "    </tr>\n",
       "  </thead>\n",
       "  <tbody>\n",
       "    <tr>\n",
       "      <th>R_2AMACHYD</th>\n",
       "      <td>True</td>\n",
       "      <td>4</td>\n",
       "      <td>2</td>\n",
       "      <td>2</td>\n",
       "    </tr>\n",
       "    <tr>\n",
       "      <th>R_2HBO</th>\n",
       "      <td>False</td>\n",
       "      <td>3</td>\n",
       "      <td>2</td>\n",
       "      <td>3</td>\n",
       "    </tr>\n",
       "    <tr>\n",
       "      <th>R_1PPDCRp</th>\n",
       "      <td>True</td>\n",
       "      <td>3</td>\n",
       "      <td>3</td>\n",
       "      <td>2</td>\n",
       "    </tr>\n",
       "    <tr>\n",
       "      <th>R_42A12BOOX</th>\n",
       "      <td>True</td>\n",
       "      <td>5</td>\n",
       "      <td>3</td>\n",
       "      <td>3</td>\n",
       "    </tr>\n",
       "    <tr>\n",
       "      <th>R_4ABUTtcn</th>\n",
       "      <td>True</td>\n",
       "      <td>1</td>\n",
       "      <td>1</td>\n",
       "      <td>1</td>\n",
       "    </tr>\n",
       "  </tbody>\n",
       "</table>\n",
       "</div>"
      ],
      "text/plain": [
       "                 Y  max_matches  num_reacts  num_prods\n",
       "R_2AMACHYD    True            4           2          2\n",
       "R_2HBO       False            3           2          3\n",
       "R_1PPDCRp     True            3           3          2\n",
       "R_42A12BOOX   True            5           3          3\n",
       "R_4ABUTtcn    True            1           1          1"
      ]
     },
     "execution_count": 117,
     "metadata": {},
     "output_type": "execute_result"
    }
   ],
   "source": [
    "# basically, correctly predicted in the top 1?\n",
    "pred_df1 = pd.read_csv(\"pred_df_match1.csv\", index_col=0)\n",
    "pred_df1.head()"
   ]
  },
  {
   "cell_type": "code",
   "execution_count": 118,
   "id": "23baaf23",
   "metadata": {},
   "outputs": [
    {
     "data": {
      "text/html": [
       "<div>\n",
       "<style scoped>\n",
       "    .dataframe tbody tr th:only-of-type {\n",
       "        vertical-align: middle;\n",
       "    }\n",
       "\n",
       "    .dataframe tbody tr th {\n",
       "        vertical-align: top;\n",
       "    }\n",
       "\n",
       "    .dataframe thead th {\n",
       "        text-align: right;\n",
       "    }\n",
       "</style>\n",
       "<table border=\"1\" class=\"dataframe\">\n",
       "  <thead>\n",
       "    <tr style=\"text-align: right;\">\n",
       "      <th></th>\n",
       "      <th>Y</th>\n",
       "      <th>max_matches</th>\n",
       "      <th>num_reacts</th>\n",
       "      <th>num_prods</th>\n",
       "    </tr>\n",
       "  </thead>\n",
       "  <tbody>\n",
       "    <tr>\n",
       "      <th>R_2AMACHYD</th>\n",
       "      <td>True</td>\n",
       "      <td>4</td>\n",
       "      <td>2</td>\n",
       "      <td>2</td>\n",
       "    </tr>\n",
       "    <tr>\n",
       "      <th>R_2HBO</th>\n",
       "      <td>True</td>\n",
       "      <td>3</td>\n",
       "      <td>2</td>\n",
       "      <td>3</td>\n",
       "    </tr>\n",
       "    <tr>\n",
       "      <th>R_1PPDCRp</th>\n",
       "      <td>True</td>\n",
       "      <td>3</td>\n",
       "      <td>3</td>\n",
       "      <td>2</td>\n",
       "    </tr>\n",
       "    <tr>\n",
       "      <th>R_42A12BOOX</th>\n",
       "      <td>True</td>\n",
       "      <td>5</td>\n",
       "      <td>3</td>\n",
       "      <td>3</td>\n",
       "    </tr>\n",
       "    <tr>\n",
       "      <th>R_4ABUTtcn</th>\n",
       "      <td>True</td>\n",
       "      <td>1</td>\n",
       "      <td>1</td>\n",
       "      <td>1</td>\n",
       "    </tr>\n",
       "  </tbody>\n",
       "</table>\n",
       "</div>"
      ],
      "text/plain": [
       "                Y  max_matches  num_reacts  num_prods\n",
       "R_2AMACHYD   True            4           2          2\n",
       "R_2HBO       True            3           2          3\n",
       "R_1PPDCRp    True            3           3          2\n",
       "R_42A12BOOX  True            5           3          3\n",
       "R_4ABUTtcn   True            1           1          1"
      ]
     },
     "execution_count": 118,
     "metadata": {},
     "output_type": "execute_result"
    }
   ],
   "source": [
    "# correctly predicted with the top 5 candidates?\n",
    "pred_df5 = pd.read_csv(\"pred_df_match5.csv\", index_col=0)\n",
    "pred_df5.head()"
   ]
  },
  {
   "cell_type": "code",
   "execution_count": 112,
   "id": "74d4604f",
   "metadata": {},
   "outputs": [],
   "source": [
    "# pred_df.to_csv(\"pred_df_match1.csv\")\n",
    "# pred_df.to_csv(\"pred_df_match5.csv\")"
   ]
  },
  {
   "cell_type": "code",
   "execution_count": 119,
   "id": "048a75ff",
   "metadata": {},
   "outputs": [],
   "source": [
    "from sklearn.ensemble import RandomForestClassifier\n",
    "from sklearn.datasets import make_classification\n",
    "from sklearn.model_selection import StratifiedKFold\n",
    "from sklearn.model_selection import cross_val_score"
   ]
  },
  {
   "cell_type": "code",
   "execution_count": 122,
   "id": "d76bc4a9",
   "metadata": {},
   "outputs": [
    {
     "name": "stdout",
     "output_type": "stream",
     "text": [
      "[0.76229508 0.76229508 0.53719008 0.70247934 0.68595041 0.74380165\n",
      " 0.72727273 0.74380165 0.75206612 0.7768595 ]\n",
      "Mean: 0.7194011651537732\n"
     ]
    }
   ],
   "source": [
    "pred_df = pred_df1\n",
    "\n",
    "X = np.array(pred_df.iloc[:, 1:])\n",
    "y = pred_df[\"Y\"]\n",
    "skf = StratifiedKFold(n_splits=10)\n",
    "clf = RandomForestClassifier(random_state=0)\n",
    "clf.fit(X, y)\n",
    "scores = cross_val_score(clf, X, y, cv=skf)\n",
    "print(scores)\n",
    "print(\"Mean:\", scores.mean())"
   ]
  },
  {
   "cell_type": "code",
   "execution_count": 123,
   "id": "8d26ad6d",
   "metadata": {},
   "outputs": [
    {
     "name": "stdout",
     "output_type": "stream",
     "text": [
      "[0.98360656 0.95901639 0.97520661 0.94214876 0.96694215 0.95867769\n",
      " 0.96694215 0.95041322 0.98347107 0.97520661]\n",
      "Mean: 0.9661631215282483\n"
     ]
    }
   ],
   "source": [
    "pred_df = pred_df5\n",
    "\n",
    "X = np.array(pred_df.iloc[:, 1:])\n",
    "y = pred_df[\"Y\"]\n",
    "skf = StratifiedKFold(n_splits=10)\n",
    "clf = RandomForestClassifier(random_state=0)\n",
    "clf.fit(X, y)\n",
    "scores = cross_val_score(clf, X, y, cv=skf)\n",
    "print(scores)\n",
    "print(\"Mean:\", scores.mean())"
   ]
  },
  {
   "cell_type": "code",
   "execution_count": null,
   "id": "1431d117",
   "metadata": {},
   "outputs": [],
   "source": []
  },
  {
   "cell_type": "code",
   "execution_count": null,
   "id": "aaf04767",
   "metadata": {},
   "outputs": [],
   "source": []
  },
  {
   "cell_type": "code",
   "execution_count": 75,
   "id": "ff1575ce",
   "metadata": {},
   "outputs": [
    {
     "data": {
      "text/plain": [
       "max_matches    4\n",
       "num_reacts     2\n",
       "num_prods      2\n",
       "Name: R_2AMACHYD, dtype: object"
      ]
     },
     "execution_count": 75,
     "metadata": {},
     "output_type": "execute_result"
    }
   ],
   "source": [
    "pred_df.iloc[0,1:]"
   ]
  },
  {
   "cell_type": "code",
   "execution_count": 76,
   "id": "45f26615",
   "metadata": {},
   "outputs": [
    {
     "data": {
      "text/plain": [
       "0.9999999999999999"
      ]
     },
     "execution_count": 76,
     "metadata": {},
     "output_type": "execute_result"
    }
   ],
   "source": [
    "np.sum(p1[0])"
   ]
  },
  {
   "cell_type": "code",
   "execution_count": null,
   "id": "61b9e615",
   "metadata": {},
   "outputs": [],
   "source": []
  }
 ],
 "metadata": {
  "kernelspec": {
   "display_name": "pyo",
   "language": "python",
   "name": "pyo"
  },
  "language_info": {
   "codemirror_mode": {
    "name": "ipython",
    "version": 3
   },
   "file_extension": ".py",
   "mimetype": "text/x-python",
   "name": "python",
   "nbconvert_exporter": "python",
   "pygments_lexer": "ipython3",
   "version": "3.8.8"
  }
 },
 "nbformat": 4,
 "nbformat_minor": 5
}
